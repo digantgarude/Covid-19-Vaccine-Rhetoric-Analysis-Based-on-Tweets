{
 "cells": [
  {
   "cell_type": "code",
   "execution_count": 2,
   "metadata": {},
   "outputs": [],
   "source": [
    "import boto3\n",
    "import pysolr\n",
    "from cred import aws_access_key_id, aws_secret_access_key, CORE_NAME_FETCH, AWS_IP\n",
    "# from googletrans import Translator\n",
    "CORE_NAME = CORE_NAME_FETCH"
   ]
  },
  {
   "cell_type": "code",
   "execution_count": 3,
   "metadata": {},
   "outputs": [],
   "source": [
    "client = boto3.client('comprehend')"
   ]
  },
  {
   "cell_type": "code",
   "execution_count": 4,
   "metadata": {},
   "outputs": [
    {
     "name": "stdout",
     "output_type": "stream",
     "text": [
      "URL : http://18.216.184.141:8983/solr/\n",
      "CORE : IRF21P1\n",
      "Connection : <pysolr.Solr object at 0x7fc898bf40a0>\n"
     ]
    }
   ],
   "source": [
    "solr_url = f'http://{AWS_IP}:8983/solr/'\n",
    "print(f\"URL : {solr_url}\\nCORE : {CORE_NAME}\")\n",
    "connection = pysolr.Solr(solr_url + CORE_NAME, always_commit=True)\n",
    "print(f\"Connection : {connection}\")"
   ]
  },
  {
   "cell_type": "code",
   "execution_count": 19,
   "metadata": {},
   "outputs": [],
   "source": [
    "results = connection.search(q='*:*',**{\n",
    "    'rows': 25,\n",
    "    'fl': '*' \n",
    "    \n",
    "})"
   ]
  },
  {
   "cell_type": "code",
   "execution_count": 20,
   "metadata": {},
   "outputs": [],
   "source": [
    "results = list(results)"
   ]
  },
  {
   "cell_type": "code",
   "execution_count": 21,
   "metadata": {},
   "outputs": [
    {
     "data": {
      "text/plain": [
       "{'verified': False,\n",
       " 'country': 'USA',\n",
       " 'id': '1440485662189240320',\n",
       " 'replied_to_tweet_id': 1440484592775925760,\n",
       " 'replied_to_user_id': 1309563283196858368,\n",
       " 'reply_text': 'I know that face Kelly &amp; Diggle just made. Everybody DOESNT win. Besides Kelly, did they even check on the people in the hospital????!?',\n",
       " 'tweet_text': 'I know that face Kelly &amp; Diggle just made. Everybody DOESN’T win. Besides Kelly, did they even check on the people in the hospital????!? #Supergirl',\n",
       " 'tweet_lang': 'en',\n",
       " 'text_en': 'I know that face Kelly &amp; Diggle just made. Everybody DOESNT win. Besides Kelly, did they even check on the people in the hospital????!?',\n",
       " 'hashtags': ['Supergirl'],\n",
       " 'tweet_date': '2021-09-22T01:00:00Z',\n",
       " '_version_': 1711654113153908736}"
      ]
     },
     "execution_count": 21,
     "metadata": {},
     "output_type": "execute_result"
    }
   ],
   "source": [
    "results[0]"
   ]
  },
  {
   "cell_type": "code",
   "execution_count": 24,
   "metadata": {},
   "outputs": [
    {
     "data": {
      "text/plain": [
       "25"
      ]
     },
     "execution_count": 24,
     "metadata": {},
     "output_type": "execute_result"
    }
   ],
   "source": [
    "len(results)"
   ]
  },
  {
   "cell_type": "code",
   "execution_count": 25,
   "metadata": {},
   "outputs": [],
   "source": [
    "tweets_text = [results[i]['tweet_text'] for i in range(0, len(results))]"
   ]
  },
  {
   "cell_type": "code",
   "execution_count": 27,
   "metadata": {},
   "outputs": [],
   "source": [
    "response = client.batch_detect_sentiment(\n",
    "    TextList=tweets_text,\n",
    "    LanguageCode='en'\n",
    ")"
   ]
  },
  {
   "cell_type": "code",
   "execution_count": 28,
   "metadata": {},
   "outputs": [
    {
     "data": {
      "text/plain": [
       "{'ResultList': [{'Index': 0,\n",
       "   'Sentiment': 'NEGATIVE',\n",
       "   'SentimentScore': {'Positive': 0.004734930582344532,\n",
       "    'Negative': 0.8509536385536194,\n",
       "    'Neutral': 0.14405198395252228,\n",
       "    'Mixed': 0.0002595510450191796}},\n",
       "  {'Index': 1,\n",
       "   'Sentiment': 'NEUTRAL',\n",
       "   'SentimentScore': {'Positive': 0.04385610297322273,\n",
       "    'Negative': 0.032875873148441315,\n",
       "    'Neutral': 0.9091669321060181,\n",
       "    'Mixed': 0.01410107221454382}},\n",
       "  {'Index': 2,\n",
       "   'Sentiment': 'NEGATIVE',\n",
       "   'SentimentScore': {'Positive': 0.0009284634725190699,\n",
       "    'Negative': 0.9794122576713562,\n",
       "    'Neutral': 0.01789749786257744,\n",
       "    'Mixed': 0.001761851948685944}},\n",
       "  {'Index': 3,\n",
       "   'Sentiment': 'NEUTRAL',\n",
       "   'SentimentScore': {'Positive': 0.01069115474820137,\n",
       "    'Negative': 0.14699947834014893,\n",
       "    'Neutral': 0.8422287106513977,\n",
       "    'Mixed': 8.063279528869316e-05}},\n",
       "  {'Index': 4,\n",
       "   'Sentiment': 'NEUTRAL',\n",
       "   'SentimentScore': {'Positive': 0.005289115943014622,\n",
       "    'Negative': 0.21509134769439697,\n",
       "    'Neutral': 0.7791925668716431,\n",
       "    'Mixed': 0.0004270435019861907}},\n",
       "  {'Index': 5,\n",
       "   'Sentiment': 'NEUTRAL',\n",
       "   'SentimentScore': {'Positive': 0.4460003077983856,\n",
       "    'Negative': 0.06435972452163696,\n",
       "    'Neutral': 0.4505181908607483,\n",
       "    'Mixed': 0.03912176936864853}},\n",
       "  {'Index': 6,\n",
       "   'Sentiment': 'NEGATIVE',\n",
       "   'SentimentScore': {'Positive': 0.0012540147872641683,\n",
       "    'Negative': 0.7468594908714294,\n",
       "    'Neutral': 0.25173625349998474,\n",
       "    'Mixed': 0.0001501940278103575}},\n",
       "  {'Index': 7,\n",
       "   'Sentiment': 'NEGATIVE',\n",
       "   'SentimentScore': {'Positive': 0.009585712105035782,\n",
       "    'Negative': 0.7978283762931824,\n",
       "    'Neutral': 0.17667633295059204,\n",
       "    'Mixed': 0.015909522771835327}},\n",
       "  {'Index': 8,\n",
       "   'Sentiment': 'POSITIVE',\n",
       "   'SentimentScore': {'Positive': 0.8464108109474182,\n",
       "    'Negative': 0.12647795677185059,\n",
       "    'Neutral': 0.025071464478969574,\n",
       "    'Mixed': 0.0020397573243826628}},\n",
       "  {'Index': 9,\n",
       "   'Sentiment': 'NEUTRAL',\n",
       "   'SentimentScore': {'Positive': 0.01931661367416382,\n",
       "    'Negative': 0.00027602643240243196,\n",
       "    'Neutral': 0.9803907871246338,\n",
       "    'Mixed': 1.6555866750422865e-05}},\n",
       "  {'Index': 10,\n",
       "   'Sentiment': 'NEUTRAL',\n",
       "   'SentimentScore': {'Positive': 0.0002766444522421807,\n",
       "    'Negative': 0.0003276245261076838,\n",
       "    'Neutral': 0.9993842840194702,\n",
       "    'Mixed': 1.1412775165808853e-05}},\n",
       "  {'Index': 11,\n",
       "   'Sentiment': 'NEGATIVE',\n",
       "   'SentimentScore': {'Positive': 0.0032759669702500105,\n",
       "    'Negative': 0.648962676525116,\n",
       "    'Neutral': 0.34664252400398254,\n",
       "    'Mixed': 0.0011188718490302563}},\n",
       "  {'Index': 12,\n",
       "   'Sentiment': 'NEGATIVE',\n",
       "   'SentimentScore': {'Positive': 0.005105717107653618,\n",
       "    'Negative': 0.7855252623558044,\n",
       "    'Neutral': 0.20915968716144562,\n",
       "    'Mixed': 0.00020927131117787212}},\n",
       "  {'Index': 13,\n",
       "   'Sentiment': 'NEUTRAL',\n",
       "   'SentimentScore': {'Positive': 0.0238509364426136,\n",
       "    'Negative': 0.3996105492115021,\n",
       "    'Neutral': 0.5760383605957031,\n",
       "    'Mixed': 0.0005001703975722194}},\n",
       "  {'Index': 14,\n",
       "   'Sentiment': 'NEUTRAL',\n",
       "   'SentimentScore': {'Positive': 0.18740133941173553,\n",
       "    'Negative': 0.02353406883776188,\n",
       "    'Neutral': 0.7889330387115479,\n",
       "    'Mixed': 0.00013158183719497174}},\n",
       "  {'Index': 15,\n",
       "   'Sentiment': 'NEUTRAL',\n",
       "   'SentimentScore': {'Positive': 0.07905855029821396,\n",
       "    'Negative': 0.00044317447463981807,\n",
       "    'Neutral': 0.9194124341011047,\n",
       "    'Mixed': 0.0010858242167159915}},\n",
       "  {'Index': 16,\n",
       "   'Sentiment': 'MIXED',\n",
       "   'SentimentScore': {'Positive': 0.13387541472911835,\n",
       "    'Negative': 0.026190781965851784,\n",
       "    'Neutral': 0.0159456767141819,\n",
       "    'Mixed': 0.823988139629364}},\n",
       "  {'Index': 17,\n",
       "   'Sentiment': 'NEUTRAL',\n",
       "   'SentimentScore': {'Positive': 0.017726419493556023,\n",
       "    'Negative': 0.1079946830868721,\n",
       "    'Neutral': 0.8742370009422302,\n",
       "    'Mixed': 4.1945666453102604e-05}},\n",
       "  {'Index': 18,\n",
       "   'Sentiment': 'NEGATIVE',\n",
       "   'SentimentScore': {'Positive': 0.05005762353539467,\n",
       "    'Negative': 0.8904846906661987,\n",
       "    'Neutral': 0.05475583299994469,\n",
       "    'Mixed': 0.0047019002959132195}},\n",
       "  {'Index': 19,\n",
       "   'Sentiment': 'NEUTRAL',\n",
       "   'SentimentScore': {'Positive': 0.0081625422462821,\n",
       "    'Negative': 0.4867205023765564,\n",
       "    'Neutral': 0.504898726940155,\n",
       "    'Mixed': 0.00021819361427333206}},\n",
       "  {'Index': 20,\n",
       "   'Sentiment': 'NEUTRAL',\n",
       "   'SentimentScore': {'Positive': 0.003792533650994301,\n",
       "    'Negative': 0.49484220147132874,\n",
       "    'Neutral': 0.5004770159721375,\n",
       "    'Mixed': 0.0008882518741302192}},\n",
       "  {'Index': 21,\n",
       "   'Sentiment': 'NEUTRAL',\n",
       "   'SentimentScore': {'Positive': 0.10822980105876923,\n",
       "    'Negative': 0.40607479214668274,\n",
       "    'Neutral': 0.4756522476673126,\n",
       "    'Mixed': 0.010043169371783733}},\n",
       "  {'Index': 22,\n",
       "   'Sentiment': 'POSITIVE',\n",
       "   'SentimentScore': {'Positive': 0.5255240201950073,\n",
       "    'Negative': 0.024922579526901245,\n",
       "    'Neutral': 0.4265747666358948,\n",
       "    'Mixed': 0.02297867275774479}},\n",
       "  {'Index': 23,\n",
       "   'Sentiment': 'NEUTRAL',\n",
       "   'SentimentScore': {'Positive': 0.0006548710516653955,\n",
       "    'Negative': 0.00022899647592566907,\n",
       "    'Neutral': 0.9991016387939453,\n",
       "    'Mixed': 1.4531829947372898e-05}},\n",
       "  {'Index': 24,\n",
       "   'Sentiment': 'POSITIVE',\n",
       "   'SentimentScore': {'Positive': 0.9436827301979065,\n",
       "    'Negative': 0.0008589530480094254,\n",
       "    'Neutral': 0.05540613457560539,\n",
       "    'Mixed': 5.219140075496398e-05}}],\n",
       " 'ErrorList': [],\n",
       " 'ResponseMetadata': {'RequestId': '23b23796-1494-41cd-a06b-99afe75323b9',\n",
       "  'HTTPStatusCode': 200,\n",
       "  'HTTPHeaders': {'x-amzn-requestid': '23b23796-1494-41cd-a06b-99afe75323b9',\n",
       "   'content-type': 'application/x-amz-json-1.1',\n",
       "   'content-length': '4400',\n",
       "   'date': 'Sun, 28 Nov 2021 19:25:59 GMT'},\n",
       "  'RetryAttempts': 0}}"
      ]
     },
     "execution_count": 28,
     "metadata": {},
     "output_type": "execute_result"
    }
   ],
   "source": [
    "response"
   ]
  },
  {
   "cell_type": "code",
   "execution_count": null,
   "metadata": {},
   "outputs": [],
   "source": [
    "result_list = response[\"ResultList\"]"
   ]
  },
  {
   "cell_type": "code",
   "execution_count": 11,
   "metadata": {},
   "outputs": [],
   "source": []
  },
  {
   "cell_type": "code",
   "execution_count": 30,
   "metadata": {},
   "outputs": [],
   "source": [
    "results = connection.search(q='*:*',**{\n",
    "    'rows': 1000,\n",
    "    'fl': '*' \n",
    "    \n",
    "})\n",
    "results = list(results)"
   ]
  },
  {
   "cell_type": "code",
   "execution_count": 31,
   "metadata": {},
   "outputs": [
    {
     "data": {
      "text/plain": [
       "1000"
      ]
     },
     "execution_count": 31,
     "metadata": {},
     "output_type": "execute_result"
    }
   ],
   "source": [
    "len(results)"
   ]
  },
  {
   "cell_type": "code",
   "execution_count": null,
   "metadata": {},
   "outputs": [],
   "source": []
  }
 ],
 "metadata": {
  "interpreter": {
   "hash": "bd6cdcb46b0cbb9abfc1dae071b0bb7199489ebe2e6f1f4aa7742b65843ce19e"
  },
  "kernelspec": {
   "display_name": "Python 3.7.3 64-bit ('base': conda)",
   "name": "python3"
  },
  "language_info": {
   "codemirror_mode": {
    "name": "ipython",
    "version": 3
   },
   "file_extension": ".py",
   "mimetype": "text/x-python",
   "name": "python",
   "nbconvert_exporter": "python",
   "pygments_lexer": "ipython3",
   "version": "3.9.6"
  }
 },
 "nbformat": 4,
 "nbformat_minor": 2
}
