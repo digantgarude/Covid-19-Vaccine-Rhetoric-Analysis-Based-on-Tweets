{
 "cells": [
  {
   "cell_type": "code",
   "execution_count": 164,
   "metadata": {},
   "outputs": [],
   "source": [
    "import sentiment_analysis\n",
    "\n",
    "\n",
    "sa = sentiment_analysis.SentimentAnalysis()"
   ]
  },
  {
   "cell_type": "code",
   "execution_count": 165,
   "metadata": {},
   "outputs": [],
   "source": [
    "CORE_NAME_FETCH = \"IR_P4\"\n",
    "#CORE_NAME_FETCH = \"IRF21P1\"\n",
    "\n",
    "#AWS_IP_FETCH = \"13.58.103.161\"\n",
    "AWS_IP_FETCH = \"3.21.230.103\"\n",
    "\n",
    "sa.connect(CORE_NAME_FETCH, AWS_IP_FETCH)"
   ]
  },
  {
   "cell_type": "code",
   "execution_count": 166,
   "metadata": {},
   "outputs": [],
   "source": [
    "query = 'covid'\n",
    "tweet = sa.get_tweets(query_params='tweet_text:'+query)"
   ]
  },
  {
   "cell_type": "code",
   "execution_count": 23,
   "metadata": {},
   "outputs": [
    {
     "data": {
      "text/plain": [
       "41301"
      ]
     },
     "execution_count": 23,
     "metadata": {},
     "output_type": "execute_result"
    }
   ],
   "source": [
    "len(tweet)"
   ]
  },
  {
   "cell_type": "code",
   "execution_count": 25,
   "metadata": {},
   "outputs": [],
   "source": [
    "import pandas as pd"
   ]
  },
  {
   "cell_type": "code",
   "execution_count": 26,
   "metadata": {},
   "outputs": [],
   "source": [
    "df = pd.DataFrame(tweet)"
   ]
  },
  {
   "cell_type": "code",
   "execution_count": 27,
   "metadata": {},
   "outputs": [],
   "source": [
    "#Count sentiment and country of whole data\n",
    "def count_all(df):\n",
    "    sentiment_count = df['sentiment'].value_counts()\n",
    "    countries_count = df['country'].value_counts()\n",
    "    return sentiment_count,countries_count\n",
    "\n"
   ]
  },
  {
   "cell_type": "code",
   "execution_count": 28,
   "metadata": {},
   "outputs": [],
   "source": [
    "#Count country specific sentiment\n",
    "def country_sentiment(df,countries_count): \n",
    "    c_sentiment_all={}\n",
    "    c_sentiment_reply={}\n",
    "    for country in countries_count.index.to_list():\n",
    "        country_filter = df[(df['country'] == country)]\n",
    "        c_sentiment_all[country] = country_filter['sentiment'].value_counts()\n",
    "\n",
    "\n",
    "    return c_sentiment_all\n"
   ]
  },
  {
   "cell_type": "code",
   "execution_count": 30,
   "metadata": {},
   "outputs": [],
   "source": [
    "#Reply specific all and country Sentiment\n",
    "\n",
    "def reply_sentiment(df,countries_count):\n",
    "    reply_df = df[df.replied_to_tweet_id.notnull()]\n",
    "    reply_all = reply_df['sentiment'].value_counts()\n",
    "    reply_country = country_sentiment(reply_df,countries_count)\n",
    "    return reply_all , reply_country\n"
   ]
  },
  {
   "cell_type": "code",
   "execution_count": 31,
   "metadata": {},
   "outputs": [],
   "source": [
    "sentiment_count_all,country_count_all = count_all(df)\n",
    "countries_count_sentiment = country_sentiment(df,country_count_all)\n",
    "reply_all,reply_country=reply_sentiment(df,country_count_all)"
   ]
  },
  {
   "cell_type": "markdown",
   "metadata": {},
   "source": [
    "---------------------------------------Garbage Below.-----------------------------------------------------------------------------"
   ]
  },
  {
   "cell_type": "code",
   "execution_count": 78,
   "metadata": {},
   "outputs": [
    {
     "name": "stdout",
     "output_type": "stream",
     "text": [
      "-----------------------------------------------------------------------------------------------------------\n"
     ]
    }
   ],
   "source": [
    "from pickle5 import pickle\n",
    "for i in range(1,879):\n",
    "    f = open('../../data/tweets_' + str(i) + '.pkl','rb')\n",
    "    tweets = pickle.load(f)\n",
    "    #print(tweets)\n",
    "    for i in range(len(tweets)):\n",
    "        tweets[i]['country'] = tweets[i]['Country']\n",
    "        tweets[i].pop('Country')\n",
    "        \n",
    "        if('in_reply_to_status_id' in tweets[i].keys()):\n",
    "            temp1,temp2 = tweets[i]['in_reply_to_status_id'],tweets[i]['in_reply_to_user_id']\n",
    "            tweets[i]['replied_to_tweet_id'],tweets[i]['replied_to_user_id'] = temp1, temp2\n",
    "            tweets[i].pop('in_reply_to_status_id')\n",
    "            tweets[i].pop('in_reply_to_user_id')\n",
    "            \n",
    "    print('-----------------------------------------------------------------------------------------------------------')\n",
    "    for i in range(len(tweets)):\n",
    "        tweets[i]['country'] = tweets[i]['Country']\n",
    "        tweets[i].pop('Country')\n",
    "        \n",
    "        if('Country' in tweets[i].keys()):\n",
    "            temp1,temp2 = tweets[i]['in_reply_to_status_id'],tweets[i]['in_reply_to_user_id']\n",
    "            tweets[i]['replied_to_tweet_id'],tweets[i]['replied_to_user_id'] = temp1, temp2\n",
    "            tweets[i].pop('in_reply_to_status_id')\n",
    "            tweets[i].pop('in_reply_to_user_id')\n",
    "            print('Fuck')\n",
    "    break\n",
    "    with open(\"../../data_new/tweets_\" + str(i) + \".pkl\", \"wb\") as f:\n",
    "        pickle.dump(tweets, f, protocol=pickle.HIGHEST_PROTOCOL)\n",
    "    \n",
    "\n",
    "\n"
   ]
  },
  {
   "cell_type": "code",
   "execution_count": 9,
   "metadata": {},
   "outputs": [],
   "source": [
    "import sentiment_analysis\n",
    "AWS_IP_UPLOAD = \"3.21.230.103\"\n",
    "CORE_NAME_UPLOAD = \"BF_Project4\"\n",
    "\n",
    "sa = sentiment_analysis.SentimentAnalysis()\n",
    "sa.connect(CORE_NAME_FETCH, AWS_IP_FETCH)\n",
    "\n",
    "for i in range(len(1,897)):\n",
    "    f = open('../../data_new/tweets_'+ str(i) + '.pkl','rb')\n",
    "    tweets = pickle.load(f)\n",
    "    "
   ]
  },
  {
   "cell_type": "code",
   "execution_count": null,
   "metadata": {},
   "outputs": [],
   "source": []
  },
  {
   "cell_type": "code",
   "execution_count": null,
   "metadata": {},
   "outputs": [],
   "source": [
    "from pickle5 import pickle\n",
    "count = 0\n",
    "for i in range(1,879):\n",
    "    f = open('../../data/tweets_' + str(i) + '.pkl','rb')\n",
    "    #tweets = pickle.load(f)\n",
    "    for i in range(len(tweets)):\n",
    "        #tweets[i]['country'] = tweets[i]['Country']\n",
    "        #tweets[i].pop('Country')\n",
    "        if(tweets[i]['id'] == \"1462471090911985667\"):\n",
    "            print(tweets[i])\n",
    "            break\n",
    "        \n",
    "            \n",
    "                \n",
    "            "
   ]
  },
  {
   "cell_type": "code",
   "execution_count": 47,
   "metadata": {},
   "outputs": [],
   "source": []
  },
  {
   "cell_type": "code",
   "execution_count": 57,
   "metadata": {},
   "outputs": [],
   "source": []
  },
  {
   "cell_type": "code",
   "execution_count": 65,
   "metadata": {},
   "outputs": [],
   "source": [
    "df['id'] = df['id'].astype('int64')"
   ]
  },
  {
   "cell_type": "code",
   "execution_count": 60,
   "metadata": {},
   "outputs": [
    {
     "data": {
      "text/plain": [
       "numpy.int64"
      ]
     },
     "execution_count": 60,
     "metadata": {},
     "output_type": "execute_result"
    }
   ],
   "source": [
    "type(df['replied_to_tweet_id'].iloc[0])"
   ]
  },
  {
   "cell_type": "code",
   "execution_count": 4,
   "metadata": {},
   "outputs": [],
   "source": [
    "import json\n",
    "f = open('../../processed_tweets_v5.json','rb')\n",
    "data = json.load(f)\n",
    "\n"
   ]
  },
  {
   "cell_type": "code",
   "execution_count": 84,
   "metadata": {},
   "outputs": [],
   "source": [
    "from sklearn.feature_extraction.text import TfidfVectorizer\n",
    "\n",
    "\n",
    "def hashtags(ids):\n",
    "    hashtag_list = {}\n",
    "    for id in ids:\n",
    "        print(type(id))\n",
    "        break\n",
    "        try:\n",
    "            hashtag_list[id] = data[id]['hashtags']\n",
    "        except:\n",
    "            continue\n",
    "    text = []\n",
    "    for key in hashtag_list.keys():\n",
    "        hashtag_list[key] = ' '.join(hashtag_list[key])\n",
    "        text.append(hashtag_list[key])\n",
    "    \n",
    "    tfidf = TfidfVectorizer()\n",
    "    tfs = tfidf.fit_transform(text)\n",
    "    importance = np.argsort(np.asarray(tfs.sum(axis=0)).ravel())[::-1]\n",
    "    \n",
    "    tfidf_feature_names = np.array(tfidf.get_feature_names())\n",
    "    print(importance,tfidf_feature_names)\n",
    "    \n",
    "    return hashtag_list , tfidf_feature_names[importance[:]] #Returns top 10\n",
    "     \n",
    "\n",
    "\n"
   ]
  },
  {
   "cell_type": "code",
   "execution_count": 4,
   "metadata": {},
   "outputs": [],
   "source": [
    "ids = []\n",
    "i=0\n",
    "for key in data.keys():\n",
    "    ids.append(key)\n",
    "    i=i+1\n",
    "    if(i==500):\n",
    "        break"
   ]
  },
  {
   "cell_type": "code",
   "execution_count": null,
   "metadata": {},
   "outputs": [],
   "source": [
    "x,y = hashtags(ids)"
   ]
  },
  {
   "cell_type": "code",
   "execution_count": 1,
   "metadata": {},
   "outputs": [],
   "source": [
    "import json\n",
    "f = open('../../processed_tweets_v5.json','rb')\n",
    "data = json.load(f)"
   ]
  },
  {
   "cell_type": "code",
   "execution_count": 11,
   "metadata": {},
   "outputs": [],
   "source": [
    "from sklearn.feature_extraction.text import TfidfVectorizer\n",
    "import numpy as np\n",
    "\n",
    "def top(ids):\n",
    "    text = []\n",
    "    for id in ids:\n",
    "        try:\n",
    "            text.append(data[id]['text_en'])\n",
    "        except:\n",
    "            continue\n",
    "    \n",
    "    tfidf = TfidfVectorizer(analyzer='word' , stop_words='english')\n",
    "    tfs = tfidf.fit_transform(text)\n",
    "    importance = np.argsort(np.asarray(tfs.sum(axis=0)).ravel())[::-1]\n",
    "    \n",
    "    tfidf_feature_names = np.array(tfidf.get_feature_names())\n",
    "    print(importance,tfidf_feature_names)\n",
    "    \n",
    "    return tfidf_feature_names[importance[:]] #Returns top 10"
   ]
  },
  {
   "cell_type": "code",
   "execution_count": 12,
   "metadata": {},
   "outputs": [
    {
     "name": "stdout",
     "output_type": "stream",
     "text": [
      "[ 856 1443  478 ... 1824 1206 1121] ['000' '01' '10' ... 'zoloft' 'zombie' 'zoomed']\n"
     ]
    }
   ],
   "source": [
    "y = top(ids)"
   ]
  },
  {
   "cell_type": "code",
   "execution_count": 72,
   "metadata": {},
   "outputs": [],
   "source": [
    "from sklearn.feature_extraction.text import TfidfVectorizer\n",
    "\n",
    "tfidf = TfidfVectorizer()\n",
    "tfs = tfidf.fit_transform(text)"
   ]
  },
  {
   "cell_type": "code",
   "execution_count": 47,
   "metadata": {},
   "outputs": [],
   "source": [
    "feature_array = np.array(tfidf.get_feature_names())"
   ]
  },
  {
   "cell_type": "code",
   "execution_count": 14,
   "metadata": {},
   "outputs": [
    {
     "data": {
      "text/plain": [
       "array(['effect', 'jab', 'clinical', 'trials', 'vaccine', 'covid', 'just',\n",
       "       'people', 'shot', 'arm'], dtype='<U17')"
      ]
     },
     "execution_count": 14,
     "metadata": {},
     "output_type": "execute_result"
    }
   ],
   "source": [
    "y[0:10]"
   ]
  },
  {
   "cell_type": "code",
   "execution_count": 48,
   "metadata": {},
   "outputs": [
    {
     "data": {
      "text/plain": [
       "array(['astutesolutions', 'bloodcancerawarenessmonth', 'braincancer',\n",
       "       'clinical', 'clinicalresearch', 'clinicaltrial', 'clinicaltrials',\n",
       "       'covid19', 'cros', 'data', 'datasources', 'enddepression',\n",
       "       'frailty', 'getinvolved', 'getvaccinatednow', 'getvaxxed',\n",
       "       'h4eaddelays', 'immunology', 'investing', 'ipvc2021',\n",
       "       'iqviainstitute', 'israel', 'katrinarogers',\n",
       "       'katrinarogersconsulting', 'ldcrc', 'letstalkaboutbloodcancer',\n",
       "       'mds', 'money', 'newsflash', 'oncology', 'phase0', 'prixgalien',\n",
       "       'quebec', 'rva', 'rvaadvocate', 'saas', 'sonodynamictherapy',\n",
       "       'stocks', 'thesmartchoice', 'throwbackthursday', 'thursdayvibes',\n",
       "       'vaccinated'], dtype='<U25')"
      ]
     },
     "execution_count": 48,
     "metadata": {},
     "output_type": "execute_result"
    }
   ],
   "source": [
    "feature_array"
   ]
  },
  {
   "cell_type": "code",
   "execution_count": 49,
   "metadata": {},
   "outputs": [],
   "source": [
    "importance = np.argsort(np.asarray(tfs.sum(axis=0)).ravel())[::-1]\n",
    "tfidf_feature_names = np.array(tfidf.get_feature_names())"
   ]
  },
  {
   "cell_type": "code",
   "execution_count": 71,
   "metadata": {},
   "outputs": [
    {
     "data": {
      "text/plain": [
       "array(['astutesolutions', 'bloodcancerawarenessmonth', 'braincancer',\n",
       "       'clinical', 'clinicalresearch', 'clinicaltrial', 'clinicaltrials',\n",
       "       'covid19', 'cros', 'data', 'datasources', 'enddepression',\n",
       "       'frailty', 'getinvolved', 'getvaccinatednow', 'getvaxxed',\n",
       "       'h4eaddelays', 'immunology', 'investing', 'ipvc2021',\n",
       "       'iqviainstitute', 'israel', 'katrinarogers',\n",
       "       'katrinarogersconsulting', 'ldcrc', 'letstalkaboutbloodcancer',\n",
       "       'mds', 'money', 'newsflash', 'oncology', 'phase0', 'prixgalien',\n",
       "       'quebec', 'rva', 'rvaadvocate', 'saas', 'sonodynamictherapy',\n",
       "       'stocks', 'thesmartchoice', 'throwbackthursday', 'thursdayvibes',\n",
       "       'vaccinated'], dtype='<U25')"
      ]
     },
     "execution_count": 71,
     "metadata": {},
     "output_type": "execute_result"
    }
   ],
   "source": [
    "tfidf_feature_names[importance[:]]"
   ]
  },
  {
   "cell_type": "code",
   "execution_count": 53,
   "metadata": {},
   "outputs": [],
   "source": [
    "importance.sort()"
   ]
  },
  {
   "cell_type": "code",
   "execution_count": 54,
   "metadata": {},
   "outputs": [
    {
     "data": {
      "text/plain": [
       "array([ 0,  1,  2,  3,  4,  5,  6,  7,  8,  9, 10, 11, 12, 13, 14, 15, 16,\n",
       "       17, 18, 19, 20, 21, 22, 23, 24, 25, 26, 27, 28, 29, 30, 31, 32, 33,\n",
       "       34, 35, 36, 37, 38, 39, 40, 41], dtype=int64)"
      ]
     },
     "execution_count": 54,
     "metadata": {},
     "output_type": "execute_result"
    }
   ],
   "source": [
    "importance"
   ]
  },
  {
   "cell_type": "code",
   "execution_count": 56,
   "metadata": {},
   "outputs": [
    {
     "data": {
      "text/plain": [
       "(42,)"
      ]
     },
     "execution_count": 56,
     "metadata": {},
     "output_type": "execute_result"
    }
   ],
   "source": [
    "np.asarray(tfs.sum(axis=0)).ravel()"
   ]
  },
  {
   "cell_type": "code",
   "execution_count": null,
   "metadata": {},
   "outputs": [],
   "source": [
    "json.dumps(ids)"
   ]
  },
  {
   "cell_type": "code",
   "execution_count": null,
   "metadata": {},
   "outputs": [],
   "source": [
    "!pip install glob2\n",
    "\n",
    "      \n",
    "      "
   ]
  },
  {
   "cell_type": "code",
   "execution_count": 156,
   "metadata": {},
   "outputs": [],
   "source": [
    "import glob\n",
    "import os\n",
    "\n",
    "tweet_list = []\n",
    "def vaccine_list():\n",
    "    dates = ['2021-08','2021-09','2021-10','2021-11']\n",
    "    for date in dates:\n",
    "        os.chdir(rf'E:\\Masters\\IR\\IR_CSE535_Project-4\\Solr_Indexing\\SentimentAnalysis\\2021-09\\{date}')\n",
    "        myFiles = glob.glob(\"*.txt\", recursive = True)\n",
    "        print(1)\n",
    "\n",
    "        for file in myFiles:\n",
    "            f = open(f'{file}')\n",
    "            data=f.read()\n",
    "            data_list = data.split('\\n')\n",
    "            for i in data_list:\n",
    "                tweet_list.append(i)\n",
    "    \n"
   ]
  },
  {
   "cell_type": "code",
   "execution_count": 146,
   "metadata": {},
   "outputs": [],
   "source": [
    "path = \"E:\\Masters\\IR\\IR_CSE535_Project-4\\Solr_Indexing\\SentimentAnalysis\\2021-09\\2021-08\"\n",
    "myFiles = glob.glob(path + \"\\*.txt\", recursive = True)\n",
    "\n",
    "\n",
    "\n",
    "    \n"
   ]
  },
  {
   "cell_type": "code",
   "execution_count": 157,
   "metadata": {},
   "outputs": [
    {
     "name": "stdout",
     "output_type": "stream",
     "text": [
      "1\n",
      "1\n",
      "1\n",
      "1\n"
     ]
    }
   ],
   "source": [
    "vaccine_list()"
   ]
  },
  {
   "cell_type": "code",
   "execution_count": 158,
   "metadata": {},
   "outputs": [
    {
     "data": {
      "text/plain": [
       "21834107"
      ]
     },
     "execution_count": 158,
     "metadata": {},
     "output_type": "execute_result"
    }
   ],
   "source": [
    "len(tweet_list)"
   ]
  },
  {
   "cell_type": "code",
   "execution_count": 176,
   "metadata": {},
   "outputs": [],
   "source": [
    "import json\n",
    "with open('vaccine_tweet.json','w') as f:\n",
    "    json.dump(tweet_list_dict,f,indent =4)"
   ]
  },
  {
   "cell_type": "code",
   "execution_count": 151,
   "metadata": {},
   "outputs": [],
   "source": [
    "os.chdir(rf\"E:\\Masters\\IR\\IR_CSE535_Project-4\\Solr_Indexing\\SentimentAnalysis\\2021-09\\2021-08\")"
   ]
  },
  {
   "cell_type": "code",
   "execution_count": 161,
   "metadata": {},
   "outputs": [
    {
     "data": {
      "text/plain": [
       "'E:\\\\Masters\\\\IR\\\\IR_CSE535_Project-4\\\\Solr_Indexing\\\\SentimentAnalysis\\\\2021-09\\\\2021-11'"
      ]
     },
     "execution_count": 161,
     "metadata": {},
     "output_type": "execute_result"
    }
   ],
   "source": [
    "pwd"
   ]
  },
  {
   "cell_type": "code",
   "execution_count": 136,
   "metadata": {},
   "outputs": [],
   "source": [
    "myFiles = glob.glob(\"*.txt\", recursive = True)"
   ]
  },
  {
   "cell_type": "code",
   "execution_count": 170,
   "metadata": {},
   "outputs": [],
   "source": [
    "tweet_list_dict = {}\n",
    "for i in tweet_list:\n",
    "    tweet_list_dict[i] = 1"
   ]
  },
  {
   "cell_type": "code",
   "execution_count": 171,
   "metadata": {},
   "outputs": [
    {
     "data": {
      "text/plain": [
       "21825888"
      ]
     },
     "execution_count": 171,
     "metadata": {},
     "output_type": "execute_result"
    }
   ],
   "source": [
    "len(tweet_list_dict)"
   ]
  },
  {
   "cell_type": "code",
   "execution_count": 167,
   "metadata": {},
   "outputs": [
    {
     "data": {
      "text/plain": [
       "41301"
      ]
     },
     "execution_count": 167,
     "metadata": {},
     "output_type": "execute_result"
    }
   ],
   "source": [
    "len(tweet)"
   ]
  },
  {
   "cell_type": "code",
   "execution_count": null,
   "metadata": {},
   "outputs": [],
   "source": [
    "hesitancy = []\n",
    "for tw in tweet:\n",
    "    try:\n",
    "        if(tweet_list_dict[tw['id']] == 1):\n",
    "            hesitancy.append(tw['id'])\n",
    "            print('found')\n",
    "    except:\n",
    "        continue\n",
    "\n",
    "\n",
    "    "
   ]
  },
  {
   "cell_type": "code",
   "execution_count": 175,
   "metadata": {},
   "outputs": [
    {
     "data": {
      "text/plain": [
       "1476"
      ]
     },
     "execution_count": 175,
     "metadata": {},
     "output_type": "execute_result"
    }
   ],
   "source": [
    "tweet_list_dict"
   ]
  },
  {
   "cell_type": "code",
   "execution_count": 1,
   "metadata": {},
   "outputs": [
    {
     "ename": "FileNotFoundError",
     "evalue": "[Errno 2] No such file or directory: '../vaccine_tweet.json'",
     "output_type": "error",
     "traceback": [
      "\u001b[1;31m---------------------------------------------------------------------------\u001b[0m",
      "\u001b[1;31mFileNotFoundError\u001b[0m                         Traceback (most recent call last)",
      "\u001b[1;32m<ipython-input-1-8e77f239097d>\u001b[0m in \u001b[0;36m<module>\u001b[1;34m\u001b[0m\n\u001b[0;32m     20\u001b[0m \u001b[1;33m\u001b[0m\u001b[0m\n\u001b[0;32m     21\u001b[0m \u001b[0mtweets\u001b[0m \u001b[1;33m=\u001b[0m \u001b[0msa\u001b[0m\u001b[1;33m.\u001b[0m\u001b[0mget_tweets\u001b[0m\u001b[1;33m(\u001b[0m\u001b[0mquery_params\u001b[0m\u001b[1;33m=\u001b[0m\u001b[1;34m'*:*'\u001b[0m\u001b[1;33m)\u001b[0m\u001b[1;33m\u001b[0m\u001b[1;33m\u001b[0m\u001b[0m\n\u001b[1;32m---> 22\u001b[1;33m \u001b[0mvaccine_hesitancy\u001b[0m \u001b[1;33m=\u001b[0m \u001b[0mjson\u001b[0m\u001b[1;33m.\u001b[0m\u001b[0mload\u001b[0m\u001b[1;33m(\u001b[0m\u001b[0mopen\u001b[0m\u001b[1;33m(\u001b[0m\u001b[1;34m'../vaccine_tweet.json'\u001b[0m\u001b[1;33m,\u001b[0m\u001b[1;34m'rb'\u001b[0m\u001b[1;33m)\u001b[0m\u001b[1;33m)\u001b[0m\u001b[1;33m\u001b[0m\u001b[1;33m\u001b[0m\u001b[0m\n\u001b[0m\u001b[0;32m     23\u001b[0m \u001b[1;33m\u001b[0m\u001b[0m\n\u001b[0;32m     24\u001b[0m \u001b[0mids\u001b[0m \u001b[1;33m=\u001b[0m \u001b[1;33m[\u001b[0m\u001b[1;33m]\u001b[0m\u001b[1;33m\u001b[0m\u001b[1;33m\u001b[0m\u001b[0m\n",
      "\u001b[1;31mFileNotFoundError\u001b[0m: [Errno 2] No such file or directory: '../vaccine_tweet.json'"
     ]
    }
   ],
   "source": [
    "\n",
    "##Vaccine hesitancy tweet list is huge. This needs to be deployed on different AWS server.\n",
    "\n",
    "from flask import Flask,jsonify,request\n",
    "\n",
    "import pysolr\n",
    "\n",
    "import json\n",
    "\n",
    "\n",
    "import sentiment_analysis\n",
    "\n",
    "\n",
    "sa = sentiment_analysis.SentimentAnalysis()\n",
    "\n",
    "CORE_NAME_FETCH = \"IR_P4\"\n",
    "AWS_IP_FETCH = \"3.21.230.103\"\n",
    "\n",
    "sa.connect(CORE_NAME_FETCH, AWS_IP_FETCH)\n",
    "\n",
    "tweets = sa.get_tweets(query_params='*:*')\n",
    "vaccine_hesitancy = json.load(open('../vaccine_tweet.json','rb'))\n",
    "\n",
    "ids = []\n",
    "for tweet in tweets:\n",
    "    ids.append(tweet['id'])\n",
    "\n",
    "print(\"IDS Created\")\n",
    "\n",
    "def vaccine_hes(tweet_ids):\n",
    "    hesitancy = []\n",
    "    for tw in tweet_ids:\n",
    "        try:\n",
    "            if(vaccine_hesitancy[tw['id']] == 1):\n",
    "                hesitancy.append(tw['id'])\n",
    "                \n",
    "        except:\n",
    "            continue\n",
    "    return hesitancy\n",
    "\n",
    "\n",
    "\n",
    "hesitancy = vaccine_hes(ids)\n",
    "\n",
    "#with open('vaccine_hesitance.json','w') as f:\n",
    "#    json.dump(f,hesitancy,indent = 4)\n",
    "\n",
    "\n",
    "\n",
    "\n",
    "\n",
    "\n",
    "\n"
   ]
  },
  {
   "cell_type": "code",
   "execution_count": 4,
   "metadata": {},
   "outputs": [
    {
     "name": "stdout",
     "output_type": "stream",
     "text": [
      "IDS Created\n"
     ]
    }
   ],
   "source": [
    "vaccine_hesitancy = json.load(open('../../vaccine_tweet.json','rb'))\n",
    "\n",
    "ids = []\n",
    "for tweet in tweets:\n",
    "    ids.append(tweet['id'])\n",
    "\n",
    "print(\"IDS Created\")\n",
    "\n",
    "def vaccine_hes(tweet_ids):\n",
    "    hesitancy = []\n",
    "    for tw in tweet_ids:\n",
    "        try:\n",
    "            if(vaccine_hesitancy[tw['id']] == 1):\n",
    "                hesitancy.append(tw['id'])\n",
    "                \n",
    "        except:\n",
    "            continue\n",
    "    return hesitancy\n",
    "\n",
    "\n",
    "\n",
    "hesitancy = vaccine_hes(ids)"
   ]
  },
  {
   "cell_type": "code",
   "execution_count": 6,
   "metadata": {},
   "outputs": [
    {
     "data": {
      "text/plain": [
       "21825888"
      ]
     },
     "execution_count": 6,
     "metadata": {},
     "output_type": "execute_result"
    }
   ],
   "source": [
    "len(vaccine_hesitancy)"
   ]
  },
  {
   "cell_type": "code",
   "execution_count": 8,
   "metadata": {},
   "outputs": [],
   "source": [
    "tweets = sa.get_tweets(query_params='*:*',no_of_rows=300000)"
   ]
  },
  {
   "cell_type": "code",
   "execution_count": 9,
   "metadata": {},
   "outputs": [
    {
     "data": {
      "text/plain": [
       "231110"
      ]
     },
     "execution_count": 9,
     "metadata": {},
     "output_type": "execute_result"
    }
   ],
   "source": [
    "len(tweets)"
   ]
  },
  {
   "cell_type": "code",
   "execution_count": 10,
   "metadata": {},
   "outputs": [],
   "source": [
    "hesitancy = vaccine_hes(tweets)"
   ]
  },
  {
   "cell_type": "code",
   "execution_count": 27,
   "metadata": {},
   "outputs": [],
   "source": [
    "with open('vaccine_hesitancy.json','w') as f:\n",
    "    json.dump(hes,f,indent = 4)"
   ]
  },
  {
   "cell_type": "code",
   "execution_count": 25,
   "metadata": {},
   "outputs": [],
   "source": [
    "hes = {} \n",
    "hes[len(hesitancy)]= hesitancy"
   ]
  },
  {
   "cell_type": "code",
   "execution_count": null,
   "metadata": {},
   "outputs": [],
   "source": [
    "json.dumps(hes)"
   ]
  },
  {
   "cell_type": "code",
   "execution_count": null,
   "metadata": {},
   "outputs": [],
   "source": []
  }
 ],
 "metadata": {
  "interpreter": {
   "hash": "90d3317f36dd8f522e3bf9c26b3976cbe1f0b633cbe006961a71c80ba6b92c2f"
  },
  "kernelspec": {
   "display_name": "Python 3.8.3 64-bit ('untitled': conda)",
   "language": "python",
   "name": "python3"
  },
  "language_info": {
   "codemirror_mode": {
    "name": "ipython",
    "version": 3
   },
   "file_extension": ".py",
   "mimetype": "text/x-python",
   "name": "python",
   "nbconvert_exporter": "python",
   "pygments_lexer": "ipython3",
   "version": "3.7.3"
  },
  "orig_nbformat": 4
 },
 "nbformat": 4,
 "nbformat_minor": 2
}
