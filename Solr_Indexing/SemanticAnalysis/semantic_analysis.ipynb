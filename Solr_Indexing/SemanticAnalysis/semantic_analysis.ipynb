{
 "cells": [
  {
   "cell_type": "code",
   "execution_count": 2,
   "metadata": {},
   "outputs": [],
   "source": [
    "import boto3\n",
    "import pysolr\n",
    "from cred import aws_access_key_id, aws_secret_access_key, CORE_NAME_FETCH, AWS_IP\n",
    "# from googletrans import Translator\n",
    "CORE_NAME = CORE_NAME_FETCH"
   ]
  },
  {
   "cell_type": "code",
   "execution_count": 3,
   "metadata": {},
   "outputs": [],
   "source": [
    "client = boto3.client('comprehend')"
   ]
  },
  {
   "cell_type": "code",
   "execution_count": 4,
   "metadata": {},
   "outputs": [
    {
     "name": "stdout",
     "output_type": "stream",
     "text": [
      "URL : http://18.216.184.141:8983/solr/\n",
      "CORE : IRF21P1\n",
      "Connection : <pysolr.Solr object at 0x7fc898bf40a0>\n"
     ]
    }
   ],
   "source": [
    "solr_url = f'http://{AWS_IP}:8983/solr/'\n",
    "print(f\"URL : {solr_url}\\nCORE : {CORE_NAME}\")\n",
    "connection = pysolr.Solr(solr_url + CORE_NAME, always_commit=True)\n",
    "print(f\"Connection : {connection}\")"
   ]
  },
  {
   "cell_type": "code",
   "execution_count": 19,
   "metadata": {},
   "outputs": [],
   "source": [
    "results = connection.search(q='*:*',**{\n",
    "    'rows': 25,\n",
    "    'fl': '*' \n",
    "    \n",
    "})"
   ]
  },
  {
   "cell_type": "code",
   "execution_count": 20,
   "metadata": {},
   "outputs": [],
   "source": [
    "results = list(results)"
   ]
  },
  {
   "cell_type": "code",
   "execution_count": 21,
   "metadata": {},
   "outputs": [
    {
     "data": {
      "text/plain": [
       "{'verified': False,\n",
       " 'country': 'USA',\n",
       " 'id': '1440485662189240320',\n",
       " 'replied_to_tweet_id': 1440484592775925760,\n",
       " 'replied_to_user_id': 1309563283196858368,\n",
       " 'reply_text': 'I know that face Kelly &amp; Diggle just made. Everybody DOESNT win. Besides Kelly, did they even check on the people in the hospital????!?',\n",
       " 'tweet_text': 'I know that face Kelly &amp; Diggle just made. Everybody DOESN’T win. Besides Kelly, did they even check on the people in the hospital????!? #Supergirl',\n",
       " 'tweet_lang': 'en',\n",
       " 'text_en': 'I know that face Kelly &amp; Diggle just made. Everybody DOESNT win. Besides Kelly, did they even check on the people in the hospital????!?',\n",
       " 'hashtags': ['Supergirl'],\n",
       " 'tweet_date': '2021-09-22T01:00:00Z',\n",
       " '_version_': 1711654113153908736}"
      ]
     },
     "execution_count": 21,
     "metadata": {},
     "output_type": "execute_result"
    }
   ],
   "source": [
    "results[0]"
   ]
  },
  {
   "cell_type": "code",
   "execution_count": 24,
   "metadata": {},
   "outputs": [
    {
     "data": {
      "text/plain": [
       "25"
      ]
     },
     "execution_count": 24,
     "metadata": {},
     "output_type": "execute_result"
    }
   ],
   "source": [
    "len(results)"
   ]
  },
  {
   "cell_type": "code",
   "execution_count": 25,
   "metadata": {},
   "outputs": [],
   "source": [
    "tweets_text = [results[i]['tweet_text'] for i in range(0, len(results))]"
   ]
  },
  {
   "cell_type": "code",
   "execution_count": 27,
   "metadata": {},
   "outputs": [],
   "source": [
    "response = client.batch_detect_sentiment(\n",
    "    TextList=tweets_text,\n",
    "    LanguageCode='en'\n",
    ")"
   ]
  },
  {
   "cell_type": "code",
   "execution_count": 28,
   "metadata": {},
   "outputs": [
    {
     "data": {
      "text/plain": [
       "{'ResultList': [{'Index': 0,\n",
       "   'Sentiment': 'NEGATIVE',\n",
       "   'SentimentScore': {'Positive': 0.004734930582344532,\n",
       "    'Negative': 0.8509536385536194,\n",
       "    'Neutral': 0.14405198395252228,\n",
       "    'Mixed': 0.0002595510450191796}},\n",
       "  {'Index': 1,\n",
       "   'Sentiment': 'NEUTRAL',\n",
       "   'SentimentScore': {'Positive': 0.04385610297322273,\n",
       "    'Negative': 0.032875873148441315,\n",
       "    'Neutral': 0.9091669321060181,\n",
       "    'Mixed': 0.01410107221454382}},\n",
       "  {'Index': 2,\n",
       "   'Sentiment': 'NEGATIVE',\n",
       "   'SentimentScore': {'Positive': 0.0009284634725190699,\n",
       "    'Negative': 0.9794122576713562,\n",
       "    'Neutral': 0.01789749786257744,\n",
       "    'Mixed': 0.001761851948685944}},\n",
       "  {'Index': 3,\n",
       "   'Sentiment': 'NEUTRAL',\n",
       "   'SentimentScore': {'Positive': 0.01069115474820137,\n",
       "    'Negative': 0.14699947834014893,\n",
       "    'Neutral': 0.8422287106513977,\n",
       "    'Mixed': 8.063279528869316e-05}},\n",
       "  {'Index': 4,\n",
       "   'Sentiment': 'NEUTRAL',\n",
       "   'SentimentScore': {'Positive': 0.005289115943014622,\n",
       "    'Negative': 0.21509134769439697,\n",
       "    'Neutral': 0.7791925668716431,\n",
       "    'Mixed': 0.0004270435019861907}},\n",
       "  {'Index': 5,\n",
       "   'Sentiment': 'NEUTRAL',\n",
       "   'SentimentScore': {'Positive': 0.4460003077983856,\n",
       "    'Negative': 0.06435972452163696,\n",
       "    'Neutral': 0.4505181908607483,\n",
       "    'Mixed': 0.03912176936864853}},\n",
       "  {'Index': 6,\n",
       "   'Sentiment': 'NEGATIVE',\n",
       "   'SentimentScore': {'Positive': 0.0012540147872641683,\n",
       "    'Negative': 0.7468594908714294,\n",
       "    'Neutral': 0.25173625349998474,\n",
       "    'Mixed': 0.0001501940278103575}},\n",
       "  {'Index': 7,\n",
       "   'Sentiment': 'NEGATIVE',\n",
       "   'SentimentScore': {'Positive': 0.009585712105035782,\n",
       "    'Negative': 0.7978283762931824,\n",
       "    'Neutral': 0.17667633295059204,\n",
       "    'Mixed': 0.015909522771835327}},\n",
       "  {'Index': 8,\n",
       "   'Sentiment': 'POSITIVE',\n",
       "   'SentimentScore': {'Positive': 0.8464108109474182,\n",
       "    'Negative': 0.12647795677185059,\n",
       "    'Neutral': 0.025071464478969574,\n",
       "    'Mixed': 0.0020397573243826628}},\n",
       "  {'Index': 9,\n",
       "   'Sentiment': 'NEUTRAL',\n",
       "   'SentimentScore': {'Positive': 0.01931661367416382,\n",
       "    'Negative': 0.00027602643240243196,\n",
       "    'Neutral': 0.9803907871246338,\n",
       "    'Mixed': 1.6555866750422865e-05}},\n",
       "  {'Index': 10,\n",
       "   'Sentiment': 'NEUTRAL',\n",
       "   'SentimentScore': {'Positive': 0.0002766444522421807,\n",
       "    'Negative': 0.0003276245261076838,\n",
       "    'Neutral': 0.9993842840194702,\n",
       "    'Mixed': 1.1412775165808853e-05}},\n",
       "  {'Index': 11,\n",
       "   'Sentiment': 'NEGATIVE',\n",
       "   'SentimentScore': {'Positive': 0.0032759669702500105,\n",
       "    'Negative': 0.648962676525116,\n",
       "    'Neutral': 0.34664252400398254,\n",
       "    'Mixed': 0.0011188718490302563}},\n",
       "  {'Index': 12,\n",
       "   'Sentiment': 'NEGATIVE',\n",
       "   'SentimentScore': {'Positive': 0.005105717107653618,\n",
       "    'Negative': 0.7855252623558044,\n",
       "    'Neutral': 0.20915968716144562,\n",
       "    'Mixed': 0.00020927131117787212}},\n",
       "  {'Index': 13,\n",
       "   'Sentiment': 'NEUTRAL',\n",
       "   'SentimentScore': {'Positive': 0.0238509364426136,\n",
       "    'Negative': 0.3996105492115021,\n",
       "    'Neutral': 0.5760383605957031,\n",
       "    'Mixed': 0.0005001703975722194}},\n",
       "  {'Index': 14,\n",
       "   'Sentiment': 'NEUTRAL',\n",
       "   'SentimentScore': {'Positive': 0.18740133941173553,\n",
       "    'Negative': 0.02353406883776188,\n",
       "    'Neutral': 0.7889330387115479,\n",
       "    'Mixed': 0.00013158183719497174}},\n",
       "  {'Index': 15,\n",
       "   'Sentiment': 'NEUTRAL',\n",
       "   'SentimentScore': {'Positive': 0.07905855029821396,\n",
       "    'Negative': 0.00044317447463981807,\n",
       "    'Neutral': 0.9194124341011047,\n",
       "    'Mixed': 0.0010858242167159915}},\n",
       "  {'Index': 16,\n",
       "   'Sentiment': 'MIXED',\n",
       "   'SentimentScore': {'Positive': 0.13387541472911835,\n",
       "    'Negative': 0.026190781965851784,\n",
       "    'Neutral': 0.0159456767141819,\n",
       "    'Mixed': 0.823988139629364}},\n",
       "  {'Index': 17,\n",
       "   'Sentiment': 'NEUTRAL',\n",
       "   'SentimentScore': {'Positive': 0.017726419493556023,\n",
       "    'Negative': 0.1079946830868721,\n",
       "    'Neutral': 0.8742370009422302,\n",
       "    'Mixed': 4.1945666453102604e-05}},\n",
       "  {'Index': 18,\n",
       "   'Sentiment': 'NEGATIVE',\n",
       "   'SentimentScore': {'Positive': 0.05005762353539467,\n",
       "    'Negative': 0.8904846906661987,\n",
       "    'Neutral': 0.05475583299994469,\n",
       "    'Mixed': 0.0047019002959132195}},\n",
       "  {'Index': 19,\n",
       "   'Sentiment': 'NEUTRAL',\n",
       "   'SentimentScore': {'Positive': 0.0081625422462821,\n",
       "    'Negative': 0.4867205023765564,\n",
       "    'Neutral': 0.504898726940155,\n",
       "    'Mixed': 0.00021819361427333206}},\n",
       "  {'Index': 20,\n",
       "   'Sentiment': 'NEUTRAL',\n",
       "   'SentimentScore': {'Positive': 0.003792533650994301,\n",
       "    'Negative': 0.49484220147132874,\n",
       "    'Neutral': 0.5004770159721375,\n",
       "    'Mixed': 0.0008882518741302192}},\n",
       "  {'Index': 21,\n",
       "   'Sentiment': 'NEUTRAL',\n",
       "   'SentimentScore': {'Positive': 0.10822980105876923,\n",
       "    'Negative': 0.40607479214668274,\n",
       "    'Neutral': 0.4756522476673126,\n",
       "    'Mixed': 0.010043169371783733}},\n",
       "  {'Index': 22,\n",
       "   'Sentiment': 'POSITIVE',\n",
       "   'SentimentScore': {'Positive': 0.5255240201950073,\n",
       "    'Negative': 0.024922579526901245,\n",
       "    'Neutral': 0.4265747666358948,\n",
       "    'Mixed': 0.02297867275774479}},\n",
       "  {'Index': 23,\n",
       "   'Sentiment': 'NEUTRAL',\n",
       "   'SentimentScore': {'Positive': 0.0006548710516653955,\n",
       "    'Negative': 0.00022899647592566907,\n",
       "    'Neutral': 0.9991016387939453,\n",
       "    'Mixed': 1.4531829947372898e-05}},\n",
       "  {'Index': 24,\n",
       "   'Sentiment': 'POSITIVE',\n",
       "   'SentimentScore': {'Positive': 0.9436827301979065,\n",
       "    'Negative': 0.0008589530480094254,\n",
       "    'Neutral': 0.05540613457560539,\n",
       "    'Mixed': 5.219140075496398e-05}}],\n",
       " 'ErrorList': [],\n",
       " 'ResponseMetadata': {'RequestId': '23b23796-1494-41cd-a06b-99afe75323b9',\n",
       "  'HTTPStatusCode': 200,\n",
       "  'HTTPHeaders': {'x-amzn-requestid': '23b23796-1494-41cd-a06b-99afe75323b9',\n",
       "   'content-type': 'application/x-amz-json-1.1',\n",
       "   'content-length': '4400',\n",
       "   'date': 'Sun, 28 Nov 2021 19:25:59 GMT'},\n",
       "  'RetryAttempts': 0}}"
      ]
     },
     "execution_count": 28,
     "metadata": {},
     "output_type": "execute_result"
    }
   ],
   "source": [
    "response"
   ]
  },
  {
   "cell_type": "code",
   "execution_count": null,
   "metadata": {},
   "outputs": [],
   "source": [
    "result_list = response[\"ResultList\"]"
   ]
  },
  {
   "cell_type": "code",
   "execution_count": 11,
   "metadata": {},
   "outputs": [],
   "source": []
  },
  {
   "cell_type": "code",
   "execution_count": 29,
   "metadata": {},
   "outputs": [
    {
     "ename": "IndentationError",
     "evalue": "expected an indented block (1497389345.py, line 1)",
     "output_type": "error",
     "traceback": [
      "\u001b[0;36m  File \u001b[0;32m\"/var/folders/d_/5fj9_qbs35qb24skz6z1nkpw0000gn/T/ipykernel_7559/1497389345.py\"\u001b[0;36m, line \u001b[0;32m1\u001b[0m\n\u001b[0;31m    for res in response:\u001b[0m\n\u001b[0m                        ^\u001b[0m\n\u001b[0;31mIndentationError\u001b[0m\u001b[0;31m:\u001b[0m expected an indented block\n"
     ]
    }
   ],
   "source": [
    "modified_tweets = []\n",
    "for res in result_list:\n",
    "    sentiment =  res[\"Sentiment\"]\n",
    "    sentiment_score = res['SentimentScore'][sentiment.capitalize()]\n",
    "    index = res[\"Index\"]\n"
   ]
  },
  {
   "cell_type": "code",
   "execution_count": null,
   "metadata": {},
   "outputs": [],
   "source": []
  },
  {
   "cell_type": "code",
   "execution_count": 5,
   "metadata": {},
   "outputs": [
    {
     "name": "stdout",
     "output_type": "stream",
     "text": [
      "Requirement already up-to-date: pysolr in c:\\users\\asus\\anaconda3\\lib\\site-packages (3.9.0)\n",
      "Requirement already satisfied, skipping upgrade: requests>=2.9.1 in c:\\users\\asus\\anaconda3\\lib\\site-packages (from pysolr) (2.25.1)\n",
      "Requirement already satisfied, skipping upgrade: idna<3,>=2.5 in c:\\users\\asus\\anaconda3\\lib\\site-packages (from requests>=2.9.1->pysolr) (2.8)\n",
      "Requirement already satisfied, skipping upgrade: chardet<5,>=3.0.2 in c:\\users\\asus\\anaconda3\\lib\\site-packages (from requests>=2.9.1->pysolr) (3.0.4)\n",
      "Requirement already satisfied, skipping upgrade: urllib3<1.27,>=1.21.1 in c:\\users\\asus\\anaconda3\\lib\\site-packages (from requests>=2.9.1->pysolr) (1.26.7)\n",
      "Requirement already satisfied, skipping upgrade: certifi>=2017.4.17 in c:\\users\\asus\\anaconda3\\lib\\site-packages (from requests>=2.9.1->pysolr) (2019.11.28)\n"
     ]
    }
   ],
   "source": []
  },
  {
   "cell_type": "code",
   "execution_count": 12,
   "metadata": {},
   "outputs": [
    {
     "name": "stdout",
     "output_type": "stream",
     "text": [
      "Collecting googletrans\n",
      "  Downloading https://files.pythonhosted.org/packages/71/3a/3b19effdd4c03958b90f40fe01c93de6d5280e03843cc5adf6956bfc9512/googletrans-3.0.0.tar.gz\n",
      "Collecting httpx==0.13.3 (from googletrans)\n",
      "  Downloading https://files.pythonhosted.org/packages/54/b4/698b284c6aed4d7c2b4fe3ba5df1fcf6093612423797e76fbb24890dd22f/httpx-0.13.3-py3-none-any.whl (55kB)\n",
      "Requirement already satisfied: certifi in c:\\users\\asus\\anaconda3\\lib\\site-packages (from httpx==0.13.3->googletrans) (2019.11.28)\n",
      "Collecting rfc3986<2,>=1.3 (from httpx==0.13.3->googletrans)\n",
      "  Downloading https://files.pythonhosted.org/packages/c4/e5/63ca2c4edf4e00657584608bee1001302bbf8c5f569340b78304f2f446cb/rfc3986-1.5.0-py2.py3-none-any.whl\n",
      "Requirement already satisfied: chardet==3.* in c:\\users\\asus\\anaconda3\\lib\\site-packages (from httpx==0.13.3->googletrans) (3.0.4)\n",
      "Collecting httpcore==0.9.* (from httpx==0.13.3->googletrans)\n",
      "  Downloading https://files.pythonhosted.org/packages/dd/d5/e4ff9318693ac6101a2095e580908b591838c6f33df8d3ee8dd953ba96a8/httpcore-0.9.1-py3-none-any.whl (42kB)\n",
      "Collecting sniffio (from httpx==0.13.3->googletrans)\n",
      "  Downloading https://files.pythonhosted.org/packages/52/b0/7b2e028b63d092804b6794595871f936aafa5e9322dcaaad50ebf67445b3/sniffio-1.2.0-py3-none-any.whl\n",
      "Requirement already satisfied: idna==2.* in c:\\users\\asus\\anaconda3\\lib\\site-packages (from httpx==0.13.3->googletrans) (2.8)\n",
      "Collecting hstspreload (from httpx==0.13.3->googletrans)\n",
      "  Downloading https://files.pythonhosted.org/packages/b7/74/6600c4f653b8a7e69499637f87099172e21983ab5daf342c00c65fec68c6/hstspreload-2021.11.1-py3-none-any.whl (1.3MB)\n",
      "Collecting h11<0.10,>=0.8 (from httpcore==0.9.*->httpx==0.13.3->googletrans)\n",
      "  Downloading https://files.pythonhosted.org/packages/5a/fd/3dad730b0f95e78aeeb742f96fa7bbecbdd56a58e405d3da440d5bfb90c6/h11-0.9.0-py2.py3-none-any.whl (53kB)\n",
      "Collecting h2==3.* (from httpcore==0.9.*->httpx==0.13.3->googletrans)\n",
      "  Downloading https://files.pythonhosted.org/packages/25/de/da019bcc539eeab02f6d45836f23858ac467f584bfec7a526ef200242afe/h2-3.2.0-py2.py3-none-any.whl (65kB)\n",
      "Collecting hyperframe<6,>=5.2.0 (from h2==3.*->httpcore==0.9.*->httpx==0.13.3->googletrans)\n",
      "  Downloading https://files.pythonhosted.org/packages/19/0c/bf88182bcb5dce3094e2f3e4fe20db28a9928cb7bd5b08024030e4b140db/hyperframe-5.2.0-py2.py3-none-any.whl\n",
      "Collecting hpack<4,>=3.0 (from h2==3.*->httpcore==0.9.*->httpx==0.13.3->googletrans)\n",
      "  Downloading https://files.pythonhosted.org/packages/8a/cc/e53517f4a1e13f74776ca93271caef378dadec14d71c61c949d759d3db69/hpack-3.0.0-py2.py3-none-any.whl\n",
      "Building wheels for collected packages: googletrans\n",
      "  Building wheel for googletrans (setup.py): started\n",
      "  Building wheel for googletrans (setup.py): finished with status 'done'\n",
      "  Stored in directory: C:\\Users\\Asus\\AppData\\Local\\pip\\Cache\\wheels\\28\\1a\\a7\\eaf4d7a3417a0c65796c547cff4deb6d79c7d14c2abd29273e\n",
      "Successfully built googletrans\n",
      "Installing collected packages: rfc3986, sniffio, h11, hyperframe, hpack, h2, httpcore, hstspreload, httpx, googletrans\n",
      "Successfully installed googletrans-3.0.0 h11-0.9.0 h2-3.2.0 hpack-3.0.0 hstspreload-2021.11.1 httpcore-0.9.1 httpx-0.13.3 hyperframe-5.2.0 rfc3986-1.5.0 sniffio-1.2.0\n",
      "Note: you may need to restart the kernel to use updated packages.\n"
     ]
    }
   ],
   "source": [
    "!pip install googletrans "
   ]
  },
  {
   "cell_type": "code",
   "execution_count": 30,
   "metadata": {},
   "outputs": [
    {
     "data": {
      "text/plain": [
       "'NEGATIVE'"
      ]
     },
     "execution_count": 30,
     "metadata": {},
     "output_type": "execute_result"
    }
   ],
   "source": [
    "response[\"ResultList\"][0][\"Sentiment\"]"
   ]
  },
  {
   "cell_type": "code",
   "execution_count": 30,
   "metadata": {},
   "outputs": [
    {
     "name": "stdout",
     "output_type": "stream",
     "text": [
      "Collecting goslate\n",
      "  Downloading https://files.pythonhosted.org/packages/ca/d9/4d83598105a42b377c02c9005d55eff0fb29bdce689024490e14da3e1f17/goslate-1.5.2.tar.gz\n",
      "Collecting futures (from goslate)\n",
      "  Downloading https://files.pythonhosted.org/packages/05/80/f41cca0ea1ff69bce7e7a7d76182b47bb4e1a494380a532af3e8ee70b9ec/futures-3.1.1-py3-none-any.whl\n",
      "Building wheels for collected packages: goslate\n",
      "  Building wheel for goslate (setup.py): started\n",
      "  Building wheel for goslate (setup.py): finished with status 'done'\n",
      "  Stored in directory: C:\\Users\\Asus\\AppData\\Local\\pip\\Cache\\wheels\\28\\87\\99\\d82ce148e292cfd5d06e3c86d6f7dc642b111232936328a775\n",
      "Successfully built goslate\n",
      "Installing collected packages: futures, goslate\n",
      "Successfully installed futures-3.1.1 goslate-1.5.2\n"
     ]
    }
   ],
   "source": [
    "!pip install goslate"
   ]
  },
  {
   "cell_type": "code",
   "execution_count": 31,
   "metadata": {},
   "outputs": [],
   "source": [
    "import goslate"
   ]
  },
  {
   "cell_type": "code",
   "execution_count": 36,
   "metadata": {},
   "outputs": [],
   "source": [
    "gs = goslate.Goslate()"
   ]
  },
  {
   "cell_type": "code",
   "execution_count": 38,
   "metadata": {},
   "outputs": [
    {
     "data": {
      "text/plain": [
       "\"Litacess sent sent loudly heard the loudest chief of famous famous famous famous famous silence. He will keep in different contextures his writer's write to safety. The media will rememind him for the world for the world.Promise to his mounded family and fan.\""
      ]
     },
     "execution_count": 38,
     "metadata": {},
     "output_type": "execute_result"
    }
   ],
   "source": [
    "gs.translate('ଲବ୍ଧ ପ୍ରତିଷ୍ଠିତ ସାହିତ୍ୟିକା ମନୋରମା ମହାପାତ୍ରଜୀଙ୍କ ଦେହାନ୍ତ ଖବର ଶୁଣି ଦୁଃଖିତ । ବିଭିନ୍ନ ପ୍ରସଙ୍ଗରେ ତାଙ୍କର ଲେଖନୀ ଚାଳନା ପାଇଁ ସେ ସବୁଦିନ ପାଇଁ ମନେରହିବେ । ଗଣମାଧ୍ୟମ ଜଗତ ପାଇଁ ତାଙ୍କର ଅବଦାନ ତଥା ସମାଜସେବା କ୍ଷେତ୍ରରେ କାମ ତାଙ୍କୁ ଚିର ସ୍ମରଣୀୟ ରଖିବ । ତାଙ୍କର ଶୋକସନ୍ତପ୍ତ ପରିବାର ଏବଂ ପ୍ରଶଂସକଙ୍କୁ ସମବେଦନା ।','en')"
   ]
  },
  {
   "cell_type": "code",
   "execution_count": 41,
   "metadata": {},
   "outputs": [
    {
     "name": "stderr",
     "output_type": "stream",
     "text": [
      "C:\\Users\\Asus\\Anaconda3\\lib\\site-packages\\sklearn\\feature_extraction\\image.py:167: DeprecationWarning: `np.int` is a deprecated alias for the builtin `int`. To silence this warning, use `int` by itself. Doing this will not modify any behavior and is safe. When replacing `np.int`, you may wish to use e.g. `np.int64` or `np.int32` to specify the precision. If you wish to review your current use, check the release note link for additional information.\n",
      "Deprecated in NumPy 1.20; for more details and guidance: https://numpy.org/devdocs/release/1.20.0-notes.html#deprecations\n",
      "  dtype=np.int):\n",
      "C:\\Users\\Asus\\Anaconda3\\lib\\site-packages\\sklearn\\linear_model\\least_angle.py:35: DeprecationWarning: `np.float` is a deprecated alias for the builtin `float`. To silence this warning, use `float` by itself. Doing this will not modify any behavior and is safe. If you specifically wanted the numpy scalar type, use `np.float64` here.\n",
      "Deprecated in NumPy 1.20; for more details and guidance: https://numpy.org/devdocs/release/1.20.0-notes.html#deprecations\n",
      "  eps=np.finfo(np.float).eps,\n",
      "C:\\Users\\Asus\\Anaconda3\\lib\\site-packages\\sklearn\\linear_model\\least_angle.py:597: DeprecationWarning: `np.float` is a deprecated alias for the builtin `float`. To silence this warning, use `float` by itself. Doing this will not modify any behavior and is safe. If you specifically wanted the numpy scalar type, use `np.float64` here.\n",
      "Deprecated in NumPy 1.20; for more details and guidance: https://numpy.org/devdocs/release/1.20.0-notes.html#deprecations\n",
      "  eps=np.finfo(np.float).eps, copy_X=True, fit_path=True,\n",
      "C:\\Users\\Asus\\Anaconda3\\lib\\site-packages\\sklearn\\linear_model\\least_angle.py:836: DeprecationWarning: `np.float` is a deprecated alias for the builtin `float`. To silence this warning, use `float` by itself. Doing this will not modify any behavior and is safe. If you specifically wanted the numpy scalar type, use `np.float64` here.\n",
      "Deprecated in NumPy 1.20; for more details and guidance: https://numpy.org/devdocs/release/1.20.0-notes.html#deprecations\n",
      "  eps=np.finfo(np.float).eps, copy_X=True, fit_path=True,\n",
      "C:\\Users\\Asus\\Anaconda3\\lib\\site-packages\\sklearn\\linear_model\\least_angle.py:862: DeprecationWarning: `np.float` is a deprecated alias for the builtin `float`. To silence this warning, use `float` by itself. Doing this will not modify any behavior and is safe. If you specifically wanted the numpy scalar type, use `np.float64` here.\n",
      "Deprecated in NumPy 1.20; for more details and guidance: https://numpy.org/devdocs/release/1.20.0-notes.html#deprecations\n",
      "  eps=np.finfo(np.float).eps, positive=False):\n",
      "C:\\Users\\Asus\\Anaconda3\\lib\\site-packages\\sklearn\\linear_model\\least_angle.py:1097: DeprecationWarning: `np.float` is a deprecated alias for the builtin `float`. To silence this warning, use `float` by itself. Doing this will not modify any behavior and is safe. If you specifically wanted the numpy scalar type, use `np.float64` here.\n",
      "Deprecated in NumPy 1.20; for more details and guidance: https://numpy.org/devdocs/release/1.20.0-notes.html#deprecations\n",
      "  max_n_alphas=1000, n_jobs=None, eps=np.finfo(np.float).eps,\n",
      "C:\\Users\\Asus\\Anaconda3\\lib\\site-packages\\sklearn\\linear_model\\least_angle.py:1344: DeprecationWarning: `np.float` is a deprecated alias for the builtin `float`. To silence this warning, use `float` by itself. Doing this will not modify any behavior and is safe. If you specifically wanted the numpy scalar type, use `np.float64` here.\n",
      "Deprecated in NumPy 1.20; for more details and guidance: https://numpy.org/devdocs/release/1.20.0-notes.html#deprecations\n",
      "  max_n_alphas=1000, n_jobs=None, eps=np.finfo(np.float).eps,\n",
      "C:\\Users\\Asus\\Anaconda3\\lib\\site-packages\\sklearn\\linear_model\\least_angle.py:1480: DeprecationWarning: `np.float` is a deprecated alias for the builtin `float`. To silence this warning, use `float` by itself. Doing this will not modify any behavior and is safe. If you specifically wanted the numpy scalar type, use `np.float64` here.\n",
      "Deprecated in NumPy 1.20; for more details and guidance: https://numpy.org/devdocs/release/1.20.0-notes.html#deprecations\n",
      "  eps=np.finfo(np.float).eps, copy_X=True, positive=False):\n",
      "C:\\Users\\Asus\\Anaconda3\\lib\\site-packages\\sklearn\\linear_model\\randomized_l1.py:152: DeprecationWarning: `np.float` is a deprecated alias for the builtin `float`. To silence this warning, use `float` by itself. Doing this will not modify any behavior and is safe. If you specifically wanted the numpy scalar type, use `np.float64` here.\n",
      "Deprecated in NumPy 1.20; for more details and guidance: https://numpy.org/devdocs/release/1.20.0-notes.html#deprecations\n",
      "  precompute=False, eps=np.finfo(np.float).eps,\n",
      "C:\\Users\\Asus\\Anaconda3\\lib\\site-packages\\sklearn\\linear_model\\randomized_l1.py:320: DeprecationWarning: `np.float` is a deprecated alias for the builtin `float`. To silence this warning, use `float` by itself. Doing this will not modify any behavior and is safe. If you specifically wanted the numpy scalar type, use `np.float64` here.\n",
      "Deprecated in NumPy 1.20; for more details and guidance: https://numpy.org/devdocs/release/1.20.0-notes.html#deprecations\n",
      "  eps=np.finfo(np.float).eps, random_state=None,\n",
      "C:\\Users\\Asus\\Anaconda3\\lib\\site-packages\\sklearn\\linear_model\\randomized_l1.py:580: DeprecationWarning: `np.float` is a deprecated alias for the builtin `float`. To silence this warning, use `float` by itself. Doing this will not modify any behavior and is safe. If you specifically wanted the numpy scalar type, use `np.float64` here.\n",
      "Deprecated in NumPy 1.20; for more details and guidance: https://numpy.org/devdocs/release/1.20.0-notes.html#deprecations\n",
      "  eps=4 * np.finfo(np.float).eps, n_jobs=None,\n"
     ]
    }
   ],
   "source": [
    "from textblob import TextBlob"
   ]
  },
  {
   "cell_type": "code",
   "execution_count": 40,
   "metadata": {},
   "outputs": [
    {
     "name": "stdout",
     "output_type": "stream",
     "text": [
      "Collecting textblob\n",
      "  Downloading https://files.pythonhosted.org/packages/44/a4/595b66c1342a830f4ff476307c4367541cce3e361b9ee96d22a5eeeddd1d/textblob-0.17.1-py2.py3-none-any.whl (636kB)\n",
      "Requirement already satisfied: nltk>=3.1; python_version >= \"3\" in c:\\users\\asus\\anaconda3\\lib\\site-packages (from textblob) (3.4)\n",
      "Requirement already satisfied: six in c:\\users\\asus\\anaconda3\\lib\\site-packages (from nltk>=3.1; python_version >= \"3\"->textblob) (1.12.0)\n",
      "Requirement already satisfied: singledispatch in c:\\users\\asus\\anaconda3\\lib\\site-packages (from nltk>=3.1; python_version >= \"3\"->textblob) (3.4.0.3)\n",
      "Installing collected packages: textblob\n",
      "Successfully installed textblob-0.17.1\n"
     ]
    }
   ],
   "source": [
    "!pip install textblob"
   ]
  },
  {
   "cell_type": "code",
   "execution_count": 43,
   "metadata": {},
   "outputs": [
    {
     "data": {
      "text/plain": [
       "TextBlob(\"how's it going ?\")"
      ]
     },
     "execution_count": 43,
     "metadata": {},
     "output_type": "execute_result"
    }
   ],
   "source": [
    "blob = TextBlob('comment ca va ?')\n",
    "blob.translate(to='en')\n"
   ]
  },
  {
   "cell_type": "code",
   "execution_count": 5,
   "metadata": {},
   "outputs": [
    {
     "ename": "AttributeError",
     "evalue": "'NoneType' object has no attribute 'group'",
     "output_type": "error",
     "traceback": [
      "\u001b[1;31m---------------------------------------------------------------------------\u001b[0m",
      "\u001b[1;31mAttributeError\u001b[0m                            Traceback (most recent call last)",
      "\u001b[1;32m<ipython-input-5-38b8431795c7>\u001b[0m in \u001b[0;36m<module>\u001b[1;34m\u001b[0m\n\u001b[1;32m----> 1\u001b[1;33m \u001b[0mtranslator\u001b[0m\u001b[1;33m.\u001b[0m\u001b[0mtranslate\u001b[0m\u001b[1;33m(\u001b[0m\u001b[1;34m'veritas lux mea'\u001b[0m\u001b[1;33m,\u001b[0m \u001b[0msrc\u001b[0m\u001b[1;33m=\u001b[0m\u001b[1;34m'la'\u001b[0m\u001b[1;33m)\u001b[0m\u001b[1;33m\u001b[0m\u001b[1;33m\u001b[0m\u001b[0m\n\u001b[0m",
      "\u001b[1;32m~\\Anaconda3\\lib\\site-packages\\googletrans\\client.py\u001b[0m in \u001b[0;36mtranslate\u001b[1;34m(self, text, dest, src, **kwargs)\u001b[0m\n\u001b[0;32m    180\u001b[0m \u001b[1;33m\u001b[0m\u001b[0m\n\u001b[0;32m    181\u001b[0m         \u001b[0morigin\u001b[0m \u001b[1;33m=\u001b[0m \u001b[0mtext\u001b[0m\u001b[1;33m\u001b[0m\u001b[1;33m\u001b[0m\u001b[0m\n\u001b[1;32m--> 182\u001b[1;33m         \u001b[0mdata\u001b[0m \u001b[1;33m=\u001b[0m \u001b[0mself\u001b[0m\u001b[1;33m.\u001b[0m\u001b[0m_translate\u001b[0m\u001b[1;33m(\u001b[0m\u001b[0mtext\u001b[0m\u001b[1;33m,\u001b[0m \u001b[0mdest\u001b[0m\u001b[1;33m,\u001b[0m \u001b[0msrc\u001b[0m\u001b[1;33m,\u001b[0m \u001b[0mkwargs\u001b[0m\u001b[1;33m)\u001b[0m\u001b[1;33m\u001b[0m\u001b[1;33m\u001b[0m\u001b[0m\n\u001b[0m\u001b[0;32m    183\u001b[0m \u001b[1;33m\u001b[0m\u001b[0m\n\u001b[0;32m    184\u001b[0m         \u001b[1;31m# this code will be updated when the format is changed.\u001b[0m\u001b[1;33m\u001b[0m\u001b[1;33m\u001b[0m\u001b[1;33m\u001b[0m\u001b[0m\n",
      "\u001b[1;32m~\\Anaconda3\\lib\\site-packages\\googletrans\\client.py\u001b[0m in \u001b[0;36m_translate\u001b[1;34m(self, text, dest, src, override)\u001b[0m\n\u001b[0;32m     76\u001b[0m \u001b[1;33m\u001b[0m\u001b[0m\n\u001b[0;32m     77\u001b[0m     \u001b[1;32mdef\u001b[0m \u001b[0m_translate\u001b[0m\u001b[1;33m(\u001b[0m\u001b[0mself\u001b[0m\u001b[1;33m,\u001b[0m \u001b[0mtext\u001b[0m\u001b[1;33m,\u001b[0m \u001b[0mdest\u001b[0m\u001b[1;33m,\u001b[0m \u001b[0msrc\u001b[0m\u001b[1;33m,\u001b[0m \u001b[0moverride\u001b[0m\u001b[1;33m)\u001b[0m\u001b[1;33m:\u001b[0m\u001b[1;33m\u001b[0m\u001b[1;33m\u001b[0m\u001b[0m\n\u001b[1;32m---> 78\u001b[1;33m         \u001b[0mtoken\u001b[0m \u001b[1;33m=\u001b[0m \u001b[0mself\u001b[0m\u001b[1;33m.\u001b[0m\u001b[0mtoken_acquirer\u001b[0m\u001b[1;33m.\u001b[0m\u001b[0mdo\u001b[0m\u001b[1;33m(\u001b[0m\u001b[0mtext\u001b[0m\u001b[1;33m)\u001b[0m\u001b[1;33m\u001b[0m\u001b[1;33m\u001b[0m\u001b[0m\n\u001b[0m\u001b[0;32m     79\u001b[0m         params = utils.build_params(query=text, src=src, dest=dest,\n\u001b[0;32m     80\u001b[0m                                     token=token, override=override)\n",
      "\u001b[1;32m~\\Anaconda3\\lib\\site-packages\\googletrans\\gtoken.py\u001b[0m in \u001b[0;36mdo\u001b[1;34m(self, text)\u001b[0m\n\u001b[0;32m    192\u001b[0m \u001b[1;33m\u001b[0m\u001b[0m\n\u001b[0;32m    193\u001b[0m     \u001b[1;32mdef\u001b[0m \u001b[0mdo\u001b[0m\u001b[1;33m(\u001b[0m\u001b[0mself\u001b[0m\u001b[1;33m,\u001b[0m \u001b[0mtext\u001b[0m\u001b[1;33m)\u001b[0m\u001b[1;33m:\u001b[0m\u001b[1;33m\u001b[0m\u001b[1;33m\u001b[0m\u001b[0m\n\u001b[1;32m--> 194\u001b[1;33m         \u001b[0mself\u001b[0m\u001b[1;33m.\u001b[0m\u001b[0m_update\u001b[0m\u001b[1;33m(\u001b[0m\u001b[1;33m)\u001b[0m\u001b[1;33m\u001b[0m\u001b[1;33m\u001b[0m\u001b[0m\n\u001b[0m\u001b[0;32m    195\u001b[0m         \u001b[0mtk\u001b[0m \u001b[1;33m=\u001b[0m \u001b[0mself\u001b[0m\u001b[1;33m.\u001b[0m\u001b[0macquire\u001b[0m\u001b[1;33m(\u001b[0m\u001b[0mtext\u001b[0m\u001b[1;33m)\u001b[0m\u001b[1;33m\u001b[0m\u001b[1;33m\u001b[0m\u001b[0m\n\u001b[0;32m    196\u001b[0m         \u001b[1;32mreturn\u001b[0m \u001b[0mtk\u001b[0m\u001b[1;33m\u001b[0m\u001b[1;33m\u001b[0m\u001b[0m\n",
      "\u001b[1;32m~\\Anaconda3\\lib\\site-packages\\googletrans\\gtoken.py\u001b[0m in \u001b[0;36m_update\u001b[1;34m(self)\u001b[0m\n\u001b[0;32m     60\u001b[0m \u001b[1;33m\u001b[0m\u001b[0m\n\u001b[0;32m     61\u001b[0m         \u001b[1;31m# this will be the same as python code after stripping out a reserved word 'var'\u001b[0m\u001b[1;33m\u001b[0m\u001b[1;33m\u001b[0m\u001b[1;33m\u001b[0m\u001b[0m\n\u001b[1;32m---> 62\u001b[1;33m         \u001b[0mcode\u001b[0m \u001b[1;33m=\u001b[0m \u001b[0mself\u001b[0m\u001b[1;33m.\u001b[0m\u001b[0mRE_TKK\u001b[0m\u001b[1;33m.\u001b[0m\u001b[0msearch\u001b[0m\u001b[1;33m(\u001b[0m\u001b[0mr\u001b[0m\u001b[1;33m.\u001b[0m\u001b[0mtext\u001b[0m\u001b[1;33m)\u001b[0m\u001b[1;33m.\u001b[0m\u001b[0mgroup\u001b[0m\u001b[1;33m(\u001b[0m\u001b[1;36m1\u001b[0m\u001b[1;33m)\u001b[0m\u001b[1;33m.\u001b[0m\u001b[0mreplace\u001b[0m\u001b[1;33m(\u001b[0m\u001b[1;34m'var '\u001b[0m\u001b[1;33m,\u001b[0m \u001b[1;34m''\u001b[0m\u001b[1;33m)\u001b[0m\u001b[1;33m\u001b[0m\u001b[1;33m\u001b[0m\u001b[0m\n\u001b[0m\u001b[0;32m     63\u001b[0m         \u001b[1;31m# unescape special ascii characters such like a \\x3d(=)\u001b[0m\u001b[1;33m\u001b[0m\u001b[1;33m\u001b[0m\u001b[1;33m\u001b[0m\u001b[0m\n\u001b[0;32m     64\u001b[0m         \u001b[0mcode\u001b[0m \u001b[1;33m=\u001b[0m \u001b[0mcode\u001b[0m\u001b[1;33m.\u001b[0m\u001b[0mencode\u001b[0m\u001b[1;33m(\u001b[0m\u001b[1;33m)\u001b[0m\u001b[1;33m.\u001b[0m\u001b[0mdecode\u001b[0m\u001b[1;33m(\u001b[0m\u001b[1;34m'unicode-escape'\u001b[0m\u001b[1;33m)\u001b[0m\u001b[1;33m\u001b[0m\u001b[1;33m\u001b[0m\u001b[0m\n",
      "\u001b[1;31mAttributeError\u001b[0m: 'NoneType' object has no attribute 'group'"
     ]
    }
   ],
   "source": [
    "#googletrans\n",
    "translator = Translator()\n",
    "translator.translate('veritas lux mea', src='la')\n"
   ]
  },
  {
   "cell_type": "code",
   "execution_count": null,
   "metadata": {},
   "outputs": [],
   "source": []
  }
 ],
 "metadata": {
  "interpreter": {
   "hash": "bd6cdcb46b0cbb9abfc1dae071b0bb7199489ebe2e6f1f4aa7742b65843ce19e"
  },
  "kernelspec": {
   "display_name": "Python 3.7.3 64-bit ('base': conda)",
   "name": "python3"
  },
  "language_info": {
   "codemirror_mode": {
    "name": "ipython",
    "version": 3
   },
   "file_extension": ".py",
   "mimetype": "text/x-python",
   "name": "python",
   "nbconvert_exporter": "python",
   "pygments_lexer": "ipython3",
   "version": "3.9.6"
  }
 },
 "nbformat": 4,
 "nbformat_minor": 2
}
