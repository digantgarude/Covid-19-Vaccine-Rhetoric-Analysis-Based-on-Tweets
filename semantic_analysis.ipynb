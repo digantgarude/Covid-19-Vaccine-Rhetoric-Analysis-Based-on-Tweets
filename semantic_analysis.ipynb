{
 "cells": [
  {
   "cell_type": "code",
   "execution_count": 8,
   "metadata": {},
   "outputs": [],
   "source": [
    "import boto3\n",
    "import pysolr\n",
    "from cred import aws_access_key_id, aws_secret_access_key, CORE_NAME, AWS_IP"
   ]
  },
  {
   "cell_type": "code",
   "execution_count": 4,
   "metadata": {},
   "outputs": [],
   "source": [
    "client = boto3.client('comprehend')"
   ]
  },
  {
   "cell_type": "code",
   "execution_count": 9,
   "metadata": {},
   "outputs": [
    {
     "name": "stdout",
     "output_type": "stream",
     "text": [
      "URL : http://18.216.184.141:8983/solr/\n",
      "CORE : IRF21P1\n",
      "Connection : <pysolr.Solr object at 0x7fb750cbc370>\n"
     ]
    }
   ],
   "source": [
    "solr_url = f'http://{AWS_IP}:8983/solr/'\n",
    "print(f\"URL : {solr_url}\\nCORE : {CORE_NAME}\")\n",
    "connection = pysolr.Solr(solr_url + CORE_NAME, always_commit=True, timeout=5000000)\n",
    "print(f\"Connection : {connection}\")"
   ]
  },
  {
   "cell_type": "code",
   "execution_count": 15,
   "metadata": {},
   "outputs": [],
   "source": [
    "results = connection.search(q='*:*',**{\n",
    "    'rows': 100000,\n",
    "    'fl': '*' \n",
    "    \n",
    "})"
   ]
  },
  {
   "cell_type": "code",
   "execution_count": 17,
   "metadata": {},
   "outputs": [],
   "source": [
    "results = list(results)"
   ]
  },
  {
   "cell_type": "code",
   "execution_count": 18,
   "metadata": {},
   "outputs": [
    {
     "data": {
      "text/plain": [
       "{'verified': False,\n",
       " 'country': 'USA',\n",
       " 'id': '1440485662189240320',\n",
       " 'replied_to_tweet_id': 1440484592775925760,\n",
       " 'replied_to_user_id': 1309563283196858368,\n",
       " 'reply_text': 'I know that face Kelly &amp; Diggle just made. Everybody DOESNT win. Besides Kelly, did they even check on the people in the hospital????!?',\n",
       " 'tweet_text': 'I know that face Kelly &amp; Diggle just made. Everybody DOESN’T win. Besides Kelly, did they even check on the people in the hospital????!? #Supergirl',\n",
       " 'tweet_lang': 'en',\n",
       " 'text_en': 'I know that face Kelly &amp; Diggle just made. Everybody DOESNT win. Besides Kelly, did they even check on the people in the hospital????!?',\n",
       " 'hashtags': ['Supergirl'],\n",
       " 'tweet_date': '2021-09-22T01:00:00Z',\n",
       " '_version_': 1711654113153908736}"
      ]
     },
     "execution_count": 18,
     "metadata": {},
     "output_type": "execute_result"
    }
   ],
   "source": [
    "results[0]"
   ]
  },
  {
   "cell_type": "code",
   "execution_count": 25,
   "metadata": {},
   "outputs": [],
   "source": [
    "response = client.batch_detect_sentiment(\n",
    "    TextList=[\n",
    "        results[0]['tweet_text'],\n",
    "    ],\n",
    "    LanguageCode='en'\n",
    ")"
   ]
  },
  {
   "cell_type": "code",
   "execution_count": 26,
   "metadata": {},
   "outputs": [
    {
     "data": {
      "text/plain": [
       "{'ResultList': [{'Index': 0,\n",
       "   'Sentiment': 'NEGATIVE',\n",
       "   'SentimentScore': {'Positive': 0.004734930582344532,\n",
       "    'Negative': 0.8509536385536194,\n",
       "    'Neutral': 0.14405198395252228,\n",
       "    'Mixed': 0.0002595510450191796}}],\n",
       " 'ErrorList': [],\n",
       " 'ResponseMetadata': {'RequestId': '058db582-98b9-4a7e-b08b-1ef0267e4e5f',\n",
       "  'HTTPStatusCode': 200,\n",
       "  'HTTPHeaders': {'x-amzn-requestid': '058db582-98b9-4a7e-b08b-1ef0267e4e5f',\n",
       "   'content-type': 'application/x-amz-json-1.1',\n",
       "   'content-length': '206',\n",
       "   'date': 'Mon, 22 Nov 2021 19:01:33 GMT'},\n",
       "  'RetryAttempts': 0}}"
      ]
     },
     "execution_count": 26,
     "metadata": {},
     "output_type": "execute_result"
    }
   ],
   "source": [
    "response"
   ]
  },
  {
   "cell_type": "code",
   "execution_count": null,
   "metadata": {},
   "outputs": [],
   "source": []
  },
  {
   "cell_type": "code",
   "execution_count": null,
   "metadata": {},
   "outputs": [],
   "source": []
  },
  {
   "cell_type": "code",
   "execution_count": null,
   "metadata": {},
   "outputs": [],
   "source": []
  }
 ],
 "metadata": {
  "interpreter": {
   "hash": "fb5531d1db6a31b88bcf7246b69f6ec3c64c927481f272f9ca00f54812b44b53"
  },
  "kernelspec": {
   "display_name": "Python 3.9.6 64-bit ('ir': conda)",
   "language": "python",
   "name": "python3"
  },
  "language_info": {
   "codemirror_mode": {
    "name": "ipython",
    "version": 3
   },
   "file_extension": ".py",
   "mimetype": "text/x-python",
   "name": "python",
   "nbconvert_exporter": "python",
   "pygments_lexer": "ipython3",
   "version": "3.9.6"
  },
  "orig_nbformat": 4
 },
 "nbformat": 4,
 "nbformat_minor": 2
}
