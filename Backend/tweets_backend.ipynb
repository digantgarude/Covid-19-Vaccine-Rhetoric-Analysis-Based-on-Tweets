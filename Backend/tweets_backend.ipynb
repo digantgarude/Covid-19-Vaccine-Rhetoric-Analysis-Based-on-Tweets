{
 "cells": [
  {
   "cell_type": "code",
   "execution_count": 1,
   "metadata": {},
   "outputs": [],
   "source": [
    "import pymongo\n",
    "import pandas as pd\n",
    "from tqdm import tqdm\n",
    "import numpy as np"
   ]
  },
  {
   "cell_type": "code",
   "execution_count": 2,
   "metadata": {},
   "outputs": [],
   "source": [
    "MONGO_CONNECT_URL=\"mongodb://localhost:27017/IR_Project\"\n",
    "db_name = \"ir_535\"\n",
    "client = pymongo.MongoClient(MONGO_CONNECT_URL)\n",
    "db = client.get_database(db_name)"
   ]
  },
  {
   "cell_type": "code",
   "execution_count": 3,
   "metadata": {},
   "outputs": [],
   "source": [
    "# GET POI related tweets\n",
    "\n",
    "poi_tweets = list(db['tweets'].find({\n",
    "    \"poi_name\": {\"$exists\": True}\n",
    "}))"
   ]
  },
  {
   "cell_type": "code",
   "execution_count": 4,
   "metadata": {},
   "outputs": [],
   "source": [
    "poi_names_all = [tweet['poi_name'] for tweet in poi_tweets]\n",
    "\n",
    "poi_names = list(np.unique(poi_names_all))"
   ]
  },
  {
   "cell_type": "code",
   "execution_count": 5,
   "metadata": {},
   "outputs": [
    {
     "name": "stdout",
     "output_type": "stream",
     "text": [
      "49982\n"
     ]
    }
   ],
   "source": [
    "print(len(poi_tweets))\n",
    "tweet_replies = []"
   ]
  },
  {
   "cell_type": "code",
   "execution_count": 6,
   "metadata": {},
   "outputs": [],
   "source": [
    "# for tweet in tqdm(poi_tweets):\n",
    "#     tweet['_id'] = None\n",
    "#     tweet_id = tweet['id']\n",
    "#     # replied_to_tweet_id\n",
    "#     res_replies = list(db['tweets'].find({\n",
    "#         \"replied_to_tweet_id\": tweet_id\n",
    "#     }))\n",
    "#     tweet['replies'] = res_replies\n",
    "#     tweet['reply_count'] = len(res_replies)\n",
    "#     tweet_replies.append(tweet)\n",
    "    "
   ]
  },
  {
   "cell_type": "code",
   "execution_count": 38,
   "metadata": {},
   "outputs": [],
   "source": [
    "import pickle\n",
    "f = open(\"tweet_replies.pkl\", 'wb')\n",
    "pickle.dump(tweet_replies, f, pickle.HIGHEST_PROTOCOL)\n",
    "f.close()"
   ]
  },
  {
   "cell_type": "code",
   "execution_count": 44,
   "metadata": {},
   "outputs": [
    {
     "data": {
      "text/plain": [
       "[]"
      ]
     },
     "execution_count": 44,
     "metadata": {},
     "output_type": "execute_result"
    }
   ],
   "source": [
    "tweet_replies"
   ]
  },
  {
   "cell_type": "code",
   "execution_count": 7,
   "metadata": {},
   "outputs": [],
   "source": [
    "# db['tweet_reply_coll'].insert_many(tweet_replies, ordered=False, bypass_document_validation=True) "
   ]
  },
  {
   "cell_type": "code",
   "execution_count": 48,
   "metadata": {},
   "outputs": [],
   "source": [
    "f = open(\"tweet_replies.pkl\", 'rb')\n",
    "tweet_replies = pickle.load(f)\n",
    "f.close()"
   ]
  },
  {
   "cell_type": "code",
   "execution_count": null,
   "metadata": {},
   "outputs": [],
   "source": [
    "# POI vs # of tweets\n"
   ]
  },
  {
   "cell_type": "markdown",
   "metadata": {},
   "source": [
    "# MISINFORMATION"
   ]
  },
  {
   "cell_type": "code",
   "execution_count": 3,
   "metadata": {},
   "outputs": [],
   "source": [
    "import json"
   ]
  },
  {
   "cell_type": "code",
   "execution_count": 4,
   "metadata": {},
   "outputs": [],
   "source": [
    "f = open(\"./Datasets/vaccine_hesitancy.json\", \"r\")\n",
    "data = json.load(f)\n",
    "f.close()"
   ]
  },
  {
   "cell_type": "code",
   "execution_count": 6,
   "metadata": {},
   "outputs": [],
   "source": [
    "data = data[\"5080\"]"
   ]
  },
  {
   "cell_type": "code",
   "execution_count": 7,
   "metadata": {},
   "outputs": [],
   "source": [
    "response = list(db['tweets'].find({\n",
    "            \"id\": {\"$in\":data}\n",
    "        }))"
   ]
  },
  {
   "cell_type": "code",
   "execution_count": 11,
   "metadata": {},
   "outputs": [],
   "source": [
    "output = {}\n",
    "for item in response:\n",
    "    if item['country'] not in output.keys():\n",
    "        output[item['country']] = {}\n",
    "    if item['sentiment'] not in output[item['country']].keys():\n",
    "        output[item['country']][item['sentiment']] = 0\n",
    "    if 'total_count' not in output[item['country']].keys():\n",
    "        output[item['country']]['total_count'] = 0\n",
    "    output[item['country']][item['sentiment']] += 1\n",
    "    output[item['country']]['total_count'] += 1"
   ]
  },
  {
   "cell_type": "code",
   "execution_count": 13,
   "metadata": {},
   "outputs": [],
   "source": [
    "mod_output = {}\n",
    "mod_output['USA'] = output['USA']\n",
    "mod_output['INDIA'] = output['INDIA']\n",
    "mod_output['MEXICO'] = output['MEXICO']"
   ]
  },
  {
   "cell_type": "code",
   "execution_count": 14,
   "metadata": {},
   "outputs": [
    {
     "data": {
      "text/plain": [
       "{'USA': {'NEGATIVE': 2437,\n",
       "  'total_count': 4758,\n",
       "  'NEUTRAL': 1976,\n",
       "  'MIXED': 122,\n",
       "  'POSITIVE': 223},\n",
       " 'INDIA': {'NEGATIVE': 72,\n",
       "  'total_count': 148,\n",
       "  'NEUTRAL': 68,\n",
       "  'MIXED': 5,\n",
       "  'POSITIVE': 3},\n",
       " 'MEXICO': {'NEUTRAL': 80,\n",
       "  'total_count': 162,\n",
       "  'NEGATIVE': 57,\n",
       "  'MIXED': 24,\n",
       "  'POSITIVE': 1}}"
      ]
     },
     "execution_count": 14,
     "metadata": {},
     "output_type": "execute_result"
    }
   ],
   "source": [
    "mod_output"
   ]
  },
  {
   "cell_type": "code",
   "execution_count": null,
   "metadata": {},
   "outputs": [],
   "source": []
  }
 ],
 "metadata": {
  "interpreter": {
   "hash": "fb5531d1db6a31b88bcf7246b69f6ec3c64c927481f272f9ca00f54812b44b53"
  },
  "kernelspec": {
   "display_name": "Python 3.9.6 64-bit ('ir': conda)",
   "language": "python",
   "name": "python3"
  },
  "language_info": {
   "codemirror_mode": {
    "name": "ipython",
    "version": 3
   },
   "file_extension": ".py",
   "mimetype": "text/x-python",
   "name": "python",
   "nbconvert_exporter": "python",
   "pygments_lexer": "ipython3",
   "version": "3.9.6"
  },
  "orig_nbformat": 4
 },
 "nbformat": 4,
 "nbformat_minor": 2
}
