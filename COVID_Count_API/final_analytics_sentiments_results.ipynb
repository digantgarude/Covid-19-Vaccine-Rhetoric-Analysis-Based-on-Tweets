{
 "cells": [
  {
   "cell_type": "code",
   "execution_count": 2,
   "metadata": {},
   "outputs": [],
   "source": [
    "import pandas as pd\n",
    "import requests\n",
    "import matplotlib\n",
    "import pymongo\n",
    "import numpy as np\n",
    "import re\n",
    "import pickle as pkl\n",
    "import json"
   ]
  },
  {
   "cell_type": "code",
   "execution_count": 3,
   "metadata": {},
   "outputs": [],
   "source": [
    "MONGO_CONNECT_URL=\"mongodb://localhost:27017/IR_Project\"\n",
    "db_name = \"ir_535\"\n",
    "client = pymongo.MongoClient(MONGO_CONNECT_URL)\n",
    "db = client.get_database(db_name)"
   ]
  },
  {
   "cell_type": "markdown",
   "metadata": {},
   "source": [
    "POI LIST"
   ]
  },
  {
   "cell_type": "code",
   "execution_count": 18,
   "metadata": {},
   "outputs": [
    {
     "data": {
      "text/plain": [
       "['ArvindKejriwal',\n",
       " 'BernieSanders',\n",
       " 'CDCgov',\n",
       " 'Claudiashein',\n",
       " 'EnriqueAlfaroR',\n",
       " 'GovRonDeSantis',\n",
       " 'GregAbbott_TX',\n",
       " 'HHS_ASH',\n",
       " 'HLGatell',\n",
       " 'JoeBiden',\n",
       " 'KamalaHarris',\n",
       " 'LindseyGrahamSC',\n",
       " 'MamataOfficial',\n",
       " 'MoHFW_INDIA',\n",
       " 'POTUS',\n",
       " 'PeteButtigieg',\n",
       " 'RahulGandhi',\n",
       " 'RandPaul',\n",
       " 'RicardoMonrealA',\n",
       " 'SSalud_mx',\n",
       " 'SecBecerra',\n",
       " 'SenSanders',\n",
       " 'VP',\n",
       " 'VicenteFoxQue',\n",
       " 'alfredodelmazo',\n",
       " 'alitomorenoc',\n",
       " 'amyklobuchar',\n",
       " 'fernandeznorona',\n",
       " 'lopezobrador_',\n",
       " 'm_ebrard',\n",
       " 'mansukhmandviya',\n",
       " 'marcorubio',\n",
       " 'mattgaetz',\n",
       " 'mtgreenee',\n",
       " 'narendramodi',\n",
       " 'sambitswaraj',\n",
       " 'tatclouthier',\n",
       " 'tedcruz']"
      ]
     },
     "execution_count": 18,
     "metadata": {},
     "output_type": "execute_result"
    }
   ],
   "source": [
    "poi_tweets = list(db['tweets'].find({\n",
    "    \"poi_name\": {\"$exists\": True}\n",
    "}))\n",
    "poi_names_all = [tweet['poi_name'] for tweet in poi_tweets]\n",
    "poi_names = list(np.unique(poi_names_all))\n",
    "poi_names"
   ]
  },
  {
   "cell_type": "markdown",
   "metadata": {},
   "source": [
    "Find Sentiment of tweets across the entire corpus"
   ]
  },
  {
   "cell_type": "code",
   "execution_count": 19,
   "metadata": {},
   "outputs": [],
   "source": [
    "\n",
    "data_entire_corpus = {\n",
    "    \"POSITIVE\" :  32574,\n",
    "    \"NEGATIVE\" : 54124,\n",
    "    \"NEUTRAL\" :  135416,\n",
    "    \"MIXED\" : 8996\n",
    "}"
   ]
  },
  {
   "cell_type": "code",
   "execution_count": 20,
   "metadata": {},
   "outputs": [
    {
     "name": "stderr",
     "output_type": "stream",
     "text": [
      "/var/folders/d_/5fj9_qbs35qb24skz6z1nkpw0000gn/T/ipykernel_8143/1974778830.py:10: DeprecationWarning: Flags not at the start of the expression 'USA(?i)'\n",
      "  'country': re.compile(r\"\"+country+r\"(?i)\"),\n",
      "/var/folders/d_/5fj9_qbs35qb24skz6z1nkpw0000gn/T/ipykernel_8143/1974778830.py:10: DeprecationWarning: Flags not at the start of the expression 'India(?i)'\n",
      "  'country': re.compile(r\"\"+country+r\"(?i)\"),\n",
      "/var/folders/d_/5fj9_qbs35qb24skz6z1nkpw0000gn/T/ipykernel_8143/1974778830.py:10: DeprecationWarning: Flags not at the start of the expression 'Mexico(?i)'\n",
      "  'country': re.compile(r\"\"+country+r\"(?i)\"),\n"
     ]
    }
   ],
   "source": [
    "# FOR COUNTRY based individual sentiments.\n",
    "country_based_sentiments = {}\n",
    "for country in [\"USA\", \"India\", \"Mexico\"]:\n",
    "    country_based_sentiments[country] = {}\n",
    "    for sentiment in [\"POSITIVE\", \"NEGATIVE\", \"NEUTRAL\", \"MIXED\"]:\n",
    "        country_based_sentiments[country][sentiment] = {}\n",
    "        out = list(db['tweets'].aggregate([\n",
    "            {\n",
    "                '$match': {\n",
    "                    'country': re.compile(r\"\"+country+r\"(?i)\"), \n",
    "                    'sentiment': sentiment\n",
    "                }\n",
    "            }, {\n",
    "                '$count': 'sentiment'\n",
    "            }\n",
    "        ]))\n",
    "        country_based_sentiments[country][sentiment] = out[0]['sentiment']"
   ]
  },
  {
   "cell_type": "code",
   "execution_count": 21,
   "metadata": {},
   "outputs": [
    {
     "data": {
      "text/plain": [
       "{'USA': {'POSITIVE': 17468,\n",
       "  'NEGATIVE': 40110,\n",
       "  'NEUTRAL': 78148,\n",
       "  'MIXED': 2966},\n",
       " 'India': {'POSITIVE': 8052, 'NEGATIVE': 4899, 'NEUTRAL': 28782, 'MIXED': 342},\n",
       " 'Mexico': {'POSITIVE': 6957,\n",
       "  'NEGATIVE': 8886,\n",
       "  'NEUTRAL': 28124,\n",
       "  'MIXED': 5668}}"
      ]
     },
     "execution_count": 21,
     "metadata": {},
     "output_type": "execute_result"
    }
   ],
   "source": [
    "country_based_sentiments"
   ]
  },
  {
   "cell_type": "code",
   "execution_count": 22,
   "metadata": {},
   "outputs": [],
   "source": [
    "# Calculated DATA \n",
    "country_based_sentiments = {\n",
    "    'USA': {\n",
    "        'POSITIVE': 17468,\n",
    "        'NEGATIVE': 40110,\n",
    "        'NEUTRAL': 78148,\n",
    "        'MIXED': 2966\n",
    "    },\n",
    "    'India': {\n",
    "        'POSITIVE': 8052,\n",
    "        'NEGATIVE': 4899,\n",
    "        'NEUTRAL': 28782,\n",
    "        'MIXED': 342\n",
    "    },\n",
    "    'Mexico': {\n",
    "        'POSITIVE': 6957,\n",
    "        'NEGATIVE': 8886,\n",
    "        'NEUTRAL': 28124,\n",
    "        'MIXED': 5668\n",
    "    }\n",
    "}"
   ]
  },
  {
   "cell_type": "markdown",
   "metadata": {},
   "source": [
    "# POI DATA"
   ]
  },
  {
   "cell_type": "code",
   "execution_count": 23,
   "metadata": {},
   "outputs": [
    {
     "name": "stdout",
     "output_type": "stream",
     "text": [
      "poi_name: MoHFW_INDIA || sentiment : MIXED\n"
     ]
    }
   ],
   "source": [
    "poi_tweet_based_sentiments = {}\n",
    "for poi in poi_names:\n",
    "    poi_tweet_based_sentiments[poi] = {}\n",
    "    for sentiment in [\"POSITIVE\", \"NEGATIVE\", \"NEUTRAL\", \"MIXED\"]:\n",
    "        poi_tweet_based_sentiments[poi][sentiment] = {}\n",
    "        out = list(db['tweets'].aggregate([\n",
    "            {\n",
    "                '$match': {\n",
    "                    'poi_name': poi, \n",
    "                    'sentiment': sentiment\n",
    "                }\n",
    "            }, {\n",
    "                '$count': 'sentiment'\n",
    "            }\n",
    "        ]))\n",
    "        if len(out) != 0:\n",
    "            poi_tweet_based_sentiments[poi][sentiment] = out[0]['sentiment']\n",
    "        else:\n",
    "            print(f\"poi_name: {poi} || sentiment : {sentiment}\")\n",
    "            poi_tweet_based_sentiments[poi][sentiment] = 0"
   ]
  },
  {
   "cell_type": "code",
   "execution_count": 24,
   "metadata": {},
   "outputs": [],
   "source": [
    "poi_tweet_based_sentiments = {\n",
    "    'ArvindKejriwal': {\n",
    "        'POSITIVE': 549,\n",
    "        'NEGATIVE': 168,\n",
    "        'NEUTRAL': 708,\n",
    "        'MIXED': 15\n",
    "    },\n",
    "    'BernieSanders': {\n",
    "        'POSITIVE': 164,\n",
    "        'NEGATIVE': 490,\n",
    "        'NEUTRAL': 663,\n",
    "        'MIXED': 79\n",
    "    },\n",
    "    'CDCgov': {\n",
    "        'POSITIVE': 70,\n",
    "        'NEGATIVE': 58,\n",
    "        'NEUTRAL': 1693,\n",
    "        'MIXED': 14\n",
    "    },\n",
    "    'Claudiashein': {\n",
    "        'POSITIVE': 242,\n",
    "        'NEGATIVE': 6,\n",
    "        'NEUTRAL': 439,\n",
    "        'MIXED': 32\n",
    "    },\n",
    "    'EnriqueAlfaroR': {\n",
    "        'POSITIVE': 162,\n",
    "        'NEGATIVE': 36,\n",
    "        'NEUTRAL': 406,\n",
    "        'MIXED': 53\n",
    "    },\n",
    "    'GovRonDeSantis': {\n",
    "        'POSITIVE': 398,\n",
    "        'NEGATIVE': 66,\n",
    "        'NEUTRAL': 663,\n",
    "        'MIXED': 8\n",
    "    },\n",
    "    'GregAbbott_TX': {\n",
    "        'POSITIVE': 348,\n",
    "        'NEGATIVE': 255,\n",
    "        'NEUTRAL': 621,\n",
    "        'MIXED': 10\n",
    "    },\n",
    "    'HHS_ASH': {\n",
    "        'POSITIVE': 181,\n",
    "        'NEGATIVE': 34,\n",
    "        'NEUTRAL': 559,\n",
    "        'MIXED': 6\n",
    "    },\n",
    "    'HLGatell': {\n",
    "        'POSITIVE': 48,\n",
    "        'NEGATIVE': 15,\n",
    "        'NEUTRAL': 724,\n",
    "        'MIXED': 6\n",
    "    },\n",
    "    'JoeBiden': {\n",
    "        'POSITIVE': 334,\n",
    "        'NEGATIVE': 251,\n",
    "        'NEUTRAL': 925,\n",
    "        'MIXED': 39\n",
    "    },\n",
    "    'KamalaHarris': {\n",
    "        'POSITIVE': 399,\n",
    "        'NEGATIVE': 238,\n",
    "        'NEUTRAL': 889,\n",
    "        'MIXED': 17\n",
    "    },\n",
    "    'LindseyGrahamSC': {\n",
    "        'POSITIVE': 193,\n",
    "        'NEGATIVE': 406,\n",
    "        'NEUTRAL': 528,\n",
    "        'MIXED': 47\n",
    "    },\n",
    "    'MamataOfficial': {\n",
    "        'POSITIVE': 376,\n",
    "        'NEGATIVE': 98,\n",
    "        'NEUTRAL': 242,\n",
    "        'MIXED': 17\n",
    "    },\n",
    "    'MoHFW_INDIA': {\n",
    "        'POSITIVE': 185,\n",
    "        'NEGATIVE': 50,\n",
    "        'NEUTRAL': 1687,\n",
    "        'MIXED': 0\n",
    "    },\n",
    "    'POTUS': {\n",
    "        'POSITIVE': 262,\n",
    "        'NEGATIVE': 92,\n",
    "        'NEUTRAL': 566,\n",
    "        'MIXED': 40\n",
    "    },\n",
    "    'PeteButtigieg': {\n",
    "        'POSITIVE': 317,\n",
    "        'NEGATIVE': 205,\n",
    "        'NEUTRAL': 452,\n",
    "        'MIXED': 15\n",
    "    },\n",
    "    'RahulGandhi': {\n",
    "        'POSITIVE': 327,\n",
    "        'NEGATIVE': 556,\n",
    "        'NEUTRAL': 520,\n",
    "        'MIXED': 33\n",
    "    },\n",
    "    'RandPaul': {\n",
    "        'POSITIVE': 207,\n",
    "        'NEGATIVE': 344,\n",
    "        'NEUTRAL': 556,\n",
    "        'MIXED': 19\n",
    "    },\n",
    "    'RicardoMonrealA': {\n",
    "        'POSITIVE': 145,\n",
    "        'NEGATIVE': 36,\n",
    "        'NEUTRAL': 759,\n",
    "        'MIXED': 55\n",
    "    },\n",
    "    'SSalud_mx': {\n",
    "        'POSITIVE': 570,\n",
    "        'NEGATIVE': 11,\n",
    "        'NEUTRAL': 1670,\n",
    "        'MIXED': 241\n",
    "    },\n",
    "    'SecBecerra': {\n",
    "        'POSITIVE': 175,\n",
    "        'NEGATIVE': 25,\n",
    "        'NEUTRAL': 232,\n",
    "        'MIXED': 10\n",
    "    },\n",
    "    'SenSanders': {\n",
    "        'POSITIVE': 90,\n",
    "        'NEGATIVE': 411,\n",
    "        'NEUTRAL': 348,\n",
    "        'MIXED': 60\n",
    "    },\n",
    "    'VP': {\n",
    "        'POSITIVE': 272,\n",
    "        'NEGATIVE': 47,\n",
    "        'NEUTRAL': 411,\n",
    "        'MIXED': 16\n",
    "    },\n",
    "    'VicenteFoxQue': {\n",
    "        'POSITIVE': 243,\n",
    "        'NEGATIVE': 529,\n",
    "        'NEUTRAL': 339,\n",
    "        'MIXED': 236\n",
    "    },\n",
    "    'alfredodelmazo': {\n",
    "        'POSITIVE': 244,\n",
    "        'NEGATIVE': 4,\n",
    "        'NEUTRAL': 1407,\n",
    "        'MIXED': 8\n",
    "    },\n",
    "    'alitomorenoc': {\n",
    "        'POSITIVE': 761,\n",
    "        'NEGATIVE': 93,\n",
    "        'NEUTRAL': 296,\n",
    "        'MIXED': 67\n",
    "    },\n",
    "    'amyklobuchar': {\n",
    "        'POSITIVE': 509,\n",
    "        'NEGATIVE': 241,\n",
    "        'NEUTRAL': 660,\n",
    "        'MIXED': 52\n",
    "    },\n",
    "    'fernandeznorona': {\n",
    "        'POSITIVE': 315,\n",
    "        'NEGATIVE': 383,\n",
    "        'NEUTRAL': 781,\n",
    "        'MIXED': 207\n",
    "    },\n",
    "    'lopezobrador_': {\n",
    "        'POSITIVE': 274,\n",
    "        'NEGATIVE': 75,\n",
    "        'NEUTRAL': 1126,\n",
    "        'MIXED': 105\n",
    "    },\n",
    "    'm_ebrard': {\n",
    "        'POSITIVE': 450,\n",
    "        'NEGATIVE': 76,\n",
    "        'NEUTRAL': 999,\n",
    "        'MIXED': 88\n",
    "    },\n",
    "    'mansukhmandviya': {\n",
    "        'POSITIVE': 1420,\n",
    "        'NEGATIVE': 87,\n",
    "        'NEUTRAL': 1640,\n",
    "        'MIXED': 3\n",
    "    },\n",
    "    'marcorubio': {\n",
    "        'POSITIVE': 122,\n",
    "        'NEGATIVE': 350,\n",
    "        'NEUTRAL': 552,\n",
    "        'MIXED': 28\n",
    "    },\n",
    "    'mattgaetz': {\n",
    "        'POSITIVE': 210,\n",
    "        'NEGATIVE': 367,\n",
    "        'NEUTRAL': 584,\n",
    "        'MIXED': 8\n",
    "    },\n",
    "    'mtgreenee': {\n",
    "        'POSITIVE': 214,\n",
    "        'NEGATIVE': 886,\n",
    "        'NEUTRAL': 387,\n",
    "        'MIXED': 33\n",
    "    },\n",
    "    'narendramodi': {\n",
    "        'POSITIVE': 872,\n",
    "        'NEGATIVE': 55,\n",
    "        'NEUTRAL': 929,\n",
    "        'MIXED': 19\n",
    "    },\n",
    "    'sambitswaraj': {\n",
    "        'POSITIVE': 394,\n",
    "        'NEGATIVE': 82,\n",
    "        'NEUTRAL': 1171,\n",
    "        'MIXED': 5\n",
    "    },\n",
    "    'tatclouthier': {\n",
    "        'POSITIVE': 166,\n",
    "        'NEGATIVE': 33,\n",
    "        'NEUTRAL': 382,\n",
    "        'MIXED': 22\n",
    "    },\n",
    "    'tedcruz': {\n",
    "        'POSITIVE': 163,\n",
    "        'NEGATIVE': 591,\n",
    "        'NEUTRAL': 614,\n",
    "        'MIXED': 20\n",
    "    }\n",
    "}"
   ]
  },
  {
   "cell_type": "code",
   "execution_count": null,
   "metadata": {},
   "outputs": [],
   "source": []
  },
  {
   "cell_type": "code",
   "execution_count": null,
   "metadata": {},
   "outputs": [],
   "source": [
    "{'USA': ['BernieSanders',\n",
    "  'CDCgov',\n",
    "  'GovRonDeSantis',\n",
    "  'GregAbbott_TX',\n",
    "  'HHS_ASH',\n",
    "  'JoeBiden',\n",
    "  'KamalaHarris',\n",
    "  'LindseyGrahamSC',\n",
    "  'POTUS',\n",
    "  'RandPaul',\n",
    "  'SecBecerra',\n",
    "  'SenSanders',\n",
    "  'VP',\n",
    "  'VicenteFoxQue',\n",
    "  'amyklobuchar',\n",
    "  'fernandeznorona',\n",
    "  'mattgaetz'],\n",
    " 'INDIA': ['ArvindKejriwal',\n",
    "  'MamataOfficial',\n",
    "  'MoHFW_INDIA',\n",
    "  'RahulGandhi',\n",
    "  'mansukhmandviya',\n",
    "  'narendramodi',\n",
    "  'sambitswaraj'],\n",
    " 'MEXICO': ['Claudiashein',\n",
    "  'EnriqueAlfaroR',\n",
    "  'HLGatell',\n",
    "  'PeteButtigieg',\n",
    "  'RicardoMonrealA',\n",
    "  'SSalud_mx',\n",
    "  'alfredodelmazo',\n",
    "  'alitomorenoc',\n",
    "  'lopezobrador_',\n",
    "  'm_ebrard',\n",
    "  'marcorubio',\n",
    "  'mtgreenee',\n",
    "  'tatclouthier',\n",
    "  'tedcruz']}"
   ]
  },
  {
   "cell_type": "code",
   "execution_count": null,
   "metadata": {},
   "outputs": [],
   "source": []
  },
  {
   "cell_type": "code",
   "execution_count": 24,
   "metadata": {},
   "outputs": [],
   "source": [
    "# Sentiments of tweets overtime ....."
   ]
  },
  {
   "cell_type": "code",
   "execution_count": 28,
   "metadata": {},
   "outputs": [],
   "source": []
  },
  {
   "cell_type": "code",
   "execution_count": null,
   "metadata": {},
   "outputs": [],
   "source": [
    "\n"
   ]
  },
  {
   "cell_type": "code",
   "execution_count": 6,
   "metadata": {},
   "outputs": [],
   "source": [
    "poi_country = [\n",
    "    ['ArvindKejriwal', 'INDIA'],\n",
    "    ['BernieSanders', 'USA'],\n",
    "    ['CDCgov', 'USA'],\n",
    "    ['Claudiashein', 'MEXICO'],\n",
    "    ['EnriqueAlfaroR', 'MEXICO'],\n",
    "    ['GovRonDeSantis', 'USA'],\n",
    "    ['GregAbbott_TX', 'USA'],\n",
    "    ['HHS_ASH', 'USA'],\n",
    "    ['HLGatell', 'MEXICO'],\n",
    "    ['JoeBiden', 'USA'],\n",
    "    ['KamalaHarris', 'USA'],\n",
    "    ['LindseyGrahamSC', 'USA'],\n",
    "    ['MamataOfficial', 'INDIA'],\n",
    "    ['MoHFW_INDIA', 'INDIA'],\n",
    "    ['POTUS', 'USA'],\n",
    "    ['PeteButtigieg', 'MEXICO'],\n",
    "    ['RahulGandhi', 'INDIA'],\n",
    "    ['RandPaul', 'USA'],\n",
    "    ['RicardoMonrealA', 'MEXICO'],\n",
    "    ['SSalud_mx', 'MEXICO'],\n",
    "    ['SecBecerra', 'USA'],\n",
    "    ['SenSanders', 'USA'],\n",
    "    ['VP', 'USA'],\n",
    "    ['VicenteFoxQue', 'USA'],\n",
    "    ['alfredodelmazo', 'MEXICO'],\n",
    "    ['alitomorenoc', 'MEXICO'],\n",
    "    ['amyklobuchar', 'USA'],\n",
    "    ['fernandeznorona', 'USA'],\n",
    "    ['lopezobrador_', 'MEXICO'],\n",
    "    ['m_ebrard', 'MEXICO'],\n",
    "    ['mansukhmandviya', 'INDIA'],\n",
    "    ['marcorubio', 'MEXICO'],\n",
    "    ['mattgaetz', 'USA'],\n",
    "    ['mtgreenee', 'MEXICO'],\n",
    "    ['narendramodi', 'INDIA'],\n",
    "    ['sambitswaraj', 'INDIA'],\n",
    "    ['tatclouthier', 'MEXICO'],\n",
    "    ['tedcruz', 'MEXICO']\n",
    "]"
   ]
  },
  {
   "cell_type": "code",
   "execution_count": 41,
   "metadata": {},
   "outputs": [
    {
     "ename": "NameError",
     "evalue": "name 'poi_country' is not defined",
     "output_type": "error",
     "traceback": [
      "\u001b[0;31m---------------------------------------------------------------------------\u001b[0m",
      "\u001b[0;31mNameError\u001b[0m                                 Traceback (most recent call last)",
      "\u001b[0;32m/var/folders/d_/5fj9_qbs35qb24skz6z1nkpw0000gn/T/ipykernel_2944/3808242974.py\u001b[0m in \u001b[0;36m<module>\u001b[0;34m\u001b[0m\n\u001b[1;32m      4\u001b[0m     \u001b[0;34m\"MEXICO\"\u001b[0m\u001b[0;34m:\u001b[0m \u001b[0;34m[\u001b[0m\u001b[0;34m]\u001b[0m\u001b[0;34m,\u001b[0m\u001b[0;34m\u001b[0m\u001b[0;34m\u001b[0m\u001b[0m\n\u001b[1;32m      5\u001b[0m }\n\u001b[0;32m----> 6\u001b[0;31m \u001b[0;32mfor\u001b[0m \u001b[0mitem\u001b[0m \u001b[0;32min\u001b[0m \u001b[0mpoi_country\u001b[0m\u001b[0;34m:\u001b[0m\u001b[0;34m\u001b[0m\u001b[0;34m\u001b[0m\u001b[0m\n\u001b[0m\u001b[1;32m      7\u001b[0m     \u001b[0mcountryWise\u001b[0m\u001b[0;34m[\u001b[0m\u001b[0mitem\u001b[0m\u001b[0;34m[\u001b[0m\u001b[0;36m1\u001b[0m\u001b[0;34m]\u001b[0m\u001b[0;34m]\u001b[0m\u001b[0;34m.\u001b[0m\u001b[0mappend\u001b[0m\u001b[0;34m(\u001b[0m\u001b[0mitem\u001b[0m\u001b[0;34m[\u001b[0m\u001b[0;36m0\u001b[0m\u001b[0;34m]\u001b[0m\u001b[0;34m)\u001b[0m\u001b[0;34m\u001b[0m\u001b[0;34m\u001b[0m\u001b[0m\n",
      "\u001b[0;31mNameError\u001b[0m: name 'poi_country' is not defined"
     ]
    }
   ],
   "source": [
    "countryWise = {\n",
    "    \"USA\": [],\n",
    "    \"INDIA\": [],\n",
    "    \"MEXICO\": [],\n",
    "}\n",
    "for item in poi_country:\n",
    "    countryWise[item[1]].append(item[0])"
   ]
  },
  {
   "cell_type": "code",
   "execution_count": 4,
   "metadata": {},
   "outputs": [],
   "source": [
    "# countryWise"
   ]
  },
  {
   "cell_type": "code",
   "execution_count": 4,
   "metadata": {},
   "outputs": [],
   "source": [
    "response = list(db['tweets'].aggregate([\n",
    "    {\n",
    "        '$match': {\n",
    "            'hashtags': {\n",
    "                '$exists': True\n",
    "            }\n",
    "        }\n",
    "    }\n",
    "]))"
   ]
  },
  {
   "cell_type": "code",
   "execution_count": 5,
   "metadata": {},
   "outputs": [],
   "source": [
    "hashtags_list_all = [item[\"hashtags\"] for item in response]"
   ]
  },
  {
   "cell_type": "code",
   "execution_count": 6,
   "metadata": {},
   "outputs": [],
   "source": [
    "hashtags_flat = [item for sublist in hashtags_list_all for item in sublist]\n",
    "hashtags_li , hashtags_count = np.unique(hashtags_flat, return_counts=True)"
   ]
  },
  {
   "cell_type": "code",
   "execution_count": 7,
   "metadata": {},
   "outputs": [],
   "source": [
    "hashtags_li = hashtags_li.tolist()\n",
    "hashtags_count = hashtags_count.tolist()"
   ]
  },
  {
   "cell_type": "code",
   "execution_count": 8,
   "metadata": {},
   "outputs": [],
   "source": [
    "hashtags_word_colud_corpus = []\n",
    "for i in range(0, len(hashtags_count)):\n",
    "    hashtags_word_colud_corpus.append({\n",
    "        \"name\": hashtags_li[i],\n",
    "        \"weight\": hashtags_count[i],\n",
    "    })"
   ]
  },
  {
   "cell_type": "code",
   "execution_count": 14,
   "metadata": {},
   "outputs": [],
   "source": [
    "sorted_hashtags = sorted(hashtags_word_colud_corpus, key= lambda k: k['weight'], reverse=True)\n"
   ]
  },
  {
   "cell_type": "code",
   "execution_count": 16,
   "metadata": {},
   "outputs": [
    {
     "data": {
      "text/plain": [
       "43001"
      ]
     },
     "execution_count": 16,
     "metadata": {},
     "output_type": "execute_result"
    }
   ],
   "source": [
    "len(sorted_hashtags)\n"
   ]
  },
  {
   "cell_type": "code",
   "execution_count": 25,
   "metadata": {},
   "outputs": [],
   "source": [
    "data = {\n",
    "    \"poi_names\": poi_names,\n",
    "    \"across_entire_corpus\": data_entire_corpus,\n",
    "    \"country_based_sentiments\": country_based_sentiments,\n",
    "    \"poi_tweet_based_sentiments\": poi_tweet_based_sentiments,\n",
    "    \"hashtags_word_cloud_corpus\": sorted_hashtags[:100]\n",
    "}\n",
    "f = open(\"sentiment_corpus.pkl\", \"wb\")\n",
    "pkl.dump(data, f, pkl.HIGHEST_PROTOCOL)\n",
    "f.close()"
   ]
  },
  {
   "cell_type": "code",
   "execution_count": 26,
   "metadata": {},
   "outputs": [],
   "source": [
    "f = open(\"sentiment_corpus.json\", \"w\")\n",
    "json.dump(data, f)\n",
    "f.close()"
   ]
  },
  {
   "cell_type": "code",
   "execution_count": null,
   "metadata": {},
   "outputs": [],
   "source": []
  }
 ],
 "metadata": {
  "interpreter": {
   "hash": "fb5531d1db6a31b88bcf7246b69f6ec3c64c927481f272f9ca00f54812b44b53"
  },
  "kernelspec": {
   "display_name": "Python 3.9.6 64-bit ('ir': conda)",
   "language": "python",
   "name": "python3"
  },
  "language_info": {
   "codemirror_mode": {
    "name": "ipython",
    "version": 3
   },
   "file_extension": ".py",
   "mimetype": "text/x-python",
   "name": "python",
   "nbconvert_exporter": "python",
   "pygments_lexer": "ipython3",
   "version": "3.9.6"
  },
  "orig_nbformat": 4
 },
 "nbformat": 4,
 "nbformat_minor": 2
}
