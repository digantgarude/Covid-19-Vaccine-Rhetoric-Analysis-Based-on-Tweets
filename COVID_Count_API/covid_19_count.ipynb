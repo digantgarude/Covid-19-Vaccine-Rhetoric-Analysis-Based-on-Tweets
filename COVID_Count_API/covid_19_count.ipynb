{
 "cells": [
  {
   "cell_type": "code",
   "execution_count": 1,
   "metadata": {},
   "outputs": [],
   "source": [
    "import pandas as pd\n",
    "import requests"
   ]
  },
  {
   "cell_type": "markdown",
   "metadata": {},
   "source": []
  },
  {
   "cell_type": "code",
   "execution_count": 2,
   "metadata": {},
   "outputs": [],
   "source": [
    "format='%Y%m%d'"
   ]
  },
  {
   "cell_type": "code",
   "execution_count": 4,
   "metadata": {},
   "outputs": [],
   "source": [
    "url_world = \"https://pomber.github.io/covid19/timeseries.json\"\n",
    "\n",
    "res_world_count = requests.get(url_world).json()\n",
    "\n",
    "df_country_data = pd.DataFrame.from_dict(res_world_count.get(\"US\"),orient='columns')"
   ]
  },
  {
   "cell_type": "code",
   "execution_count": 6,
   "metadata": {},
   "outputs": [],
   "source": [
    "df_country_data[\"date\"] = pd.to_datetime(df_country_data[\"date\"], format='%Y-%m-%d')"
   ]
  },
  {
   "cell_type": "code",
   "execution_count": 17,
   "metadata": {},
   "outputs": [],
   "source": [
    "df_country_data_after_date = df_country_data[df_country_data['date'] >= \"2021-10-20\"]\n",
    "df_country_data_till_date = df_country_data_after_date[df_country_data_after_date['date'] <= \"2021-11-21\"]"
   ]
  },
  {
   "cell_type": "code",
   "execution_count": 30,
   "metadata": {},
   "outputs": [
    {
     "data": {
      "text/plain": [
       "637    2021-10-20\n",
       "638    2021-10-21\n",
       "639    2021-10-22\n",
       "640    2021-10-23\n",
       "641    2021-10-24\n",
       "642    2021-10-25\n",
       "643    2021-10-26\n",
       "644    2021-10-27\n",
       "645    2021-10-28\n",
       "646    2021-10-29\n",
       "647    2021-10-30\n",
       "648    2021-10-31\n",
       "649    2021-11-01\n",
       "650    2021-11-02\n",
       "651    2021-11-03\n",
       "652    2021-11-04\n",
       "653    2021-11-05\n",
       "654    2021-11-06\n",
       "655    2021-11-07\n",
       "656    2021-11-08\n",
       "657    2021-11-09\n",
       "658    2021-11-10\n",
       "659    2021-11-11\n",
       "660    2021-11-12\n",
       "661    2021-11-13\n",
       "662    2021-11-14\n",
       "663    2021-11-15\n",
       "664    2021-11-16\n",
       "665    2021-11-17\n",
       "666    2021-11-18\n",
       "667    2021-11-19\n",
       "668    2021-11-20\n",
       "669    2021-11-21\n",
       "Name: date, dtype: object"
      ]
     },
     "execution_count": 30,
     "metadata": {},
     "output_type": "execute_result"
    }
   ],
   "source": [
    "df_country_data_till_date.date.dt.strftime(\"%Y-%m-%d\")"
   ]
  },
  {
   "cell_type": "code",
   "execution_count": null,
   "metadata": {},
   "outputs": [],
   "source": []
  }
 ],
 "metadata": {
  "interpreter": {
   "hash": "fb5531d1db6a31b88bcf7246b69f6ec3c64c927481f272f9ca00f54812b44b53"
  },
  "kernelspec": {
   "display_name": "Python 3.9.6 64-bit ('ir': conda)",
   "language": "python",
   "name": "python3"
  },
  "language_info": {
   "codemirror_mode": {
    "name": "ipython",
    "version": 3
   },
   "file_extension": ".py",
   "mimetype": "text/x-python",
   "name": "python",
   "nbconvert_exporter": "python",
   "pygments_lexer": "ipython3",
   "version": "3.9.6"
  },
  "orig_nbformat": 4
 },
 "nbformat": 4,
 "nbformat_minor": 2
}
